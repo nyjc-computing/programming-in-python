{
 "cells": [
  {
   "cell_type": "markdown",
   "metadata": {},
   "source": [
    "## 1-minute introduction to Jupyter ##\n",
    "\n",
    "A Jupyter notebook consists of cells. Each cell contains either text or code.\n",
    "\n",
    "A text cell will not have any text to the left of the cell. A code cell has `In [ ]:` to the left of the cell.\n",
    "\n",
    "If the cell contains code, you can edit it. Press <kbd>Enter</kbd> to edit the selected cell. While editing the code, press <kbd>Enter</kbd> to create a new line, or <kbd>Shift</kbd>+<kbd>Enter</kbd> to run the code. If you are not editing the code, select a cell and press <kbd>Ctrl</kbd>+<kbd>Enter</kbd> to run the code."
   ]
  },
  {
   "cell_type": "markdown",
   "metadata": {},
   "source": [
    "# Lesson 1: Introduction\n",
    "\n",
    "Your graphical calculator is a computer. Before you can use it to perform calculations, you need to learn how to talk to it. You already know that pressing the <kbd>=</kbd> button after inputting an expression will give you a value.\n",
    "\n",
    "The calculator only gives you a few buttons, and it is very difficult for you to come up with an expression that it cannot handle. But for that reason, it can't do very much beyond simple calculations.\n",
    "\n",
    "The computer in front of you is different. You get an entire keyboard, and full access to all the letters, numbers, symbols, and control keys. How do you use it to talk to your computer so that it can perform really powerful computations for you?"
   ]
  },
  {
   "cell_type": "markdown",
   "metadata": {},
   "source": [
    "## Python basic operators for integers\n",
    "\n",
    "Python can understand basic mathematical operations. It can handle the following operations:\n",
    "\n",
    "- `+` = plus  \n",
    "- `-` = minus  \n",
    "- `*` = multiply  \n",
    "- `/` = divide  \n",
    "- `//` = floor-quotient (round down after division)\n",
    "- `**` = exponent (power)\n",
    "- `%` = modulo (remainder after division)\n",
    "\n",
    "An expression is a code sequence that evaluates to a result. Type the following **expressions** line by line in the code cell below and run them to see the result.  \n",
    "(Remember to press <kbd>Ctrl</kbd>+<kbd>Enter</kbd> with the cell selected to actually run the code.)\n",
    "\n",
    "1. `2 + 2`\n",
    "2. `(3 + 4) * 2`  \n",
    "   (_Python follows mathematical order of operations_)\n",
    "3. `5 / 2`  \n",
    "   (_Python returns the result of division operations as a float; see next section_)\n",
    "4. `5 // 2`  \n",
    "   (_Python can return an integer result by rounding down the result; this is called a floored quotient_)\n",
    "5. `-5 // 2`  \n",
    "   (_Floor-division is always rounded towards minus infinity_)\n",
    "6. `3 ** 2`\n",
    "7. `2 % 2`\n",
    "8. `5 % 4`\n",
    "\n",
    "Try other expressions too, to understand how the above operators work."
   ]
  },
  {
   "cell_type": "code",
   "execution_count": null,
   "metadata": {},
   "outputs": [],
   "source": [
    "# Try your code in this cell\n",
    "\n",
    "2 + 2"
   ]
  },
  {
   "cell_type": "markdown",
   "metadata": {},
   "source": [
    "If you tried to run multiple lines at the same time in the cell above, you might notice that only one result is returned. The Jupyter Notebook cell runs the code line by line, and outputs only the final result, overriding the last result.\n",
    "\n",
    "To produce multiple lines of output, we will need the <a target=\"_self\" href=\"lesson_01.ipynb#The-print()-function\">`print()` **function**</a> (covered later in this lesson).\n"
   ]
  },
  {
   "cell_type": "markdown",
   "metadata": {},
   "source": [
    "## A quick crash course on functions\n",
    "\n",
    "Functions contain more complex code that can perform other operations beyond the basic operators. Defining your own functions will be covered in the next lesson, **Abstraction**.\n",
    "\n",
    "When mentioned in text, function names are usually followed by parentheses (e.g. `type()`) to indicate that they are functions. \n",
    "\n",
    "Function calls work like expressions and evaluate to a result. When called, functions take in arguments, which are values passed to the function, and return a value, called the result. In Python syntax, a function call looks like: `type(2)`. Here, the function `type()` takes in the argument `2` and returns the result `int`."
   ]
  },
  {
   "cell_type": "markdown",
   "metadata": {},
   "source": [
    "## Python Self-Help: the `type()` function\n",
    "\n",
    "The `type()` function lets you examine a Python object and find out what type of object it is."
   ]
  },
  {
   "cell_type": "markdown",
   "metadata": {},
   "source": [
    "## Python data type: floats\n",
    "\n",
    "In Python, numbers with decimals are known as **floats**.\n",
    "\n",
    "The following expressions involve the `type()` function. Type the following expressions line by line in the code cell below and run them to see the result.\n",
    "\n",
    "1. `type(2)`\n",
    "2. `type(2.0)`"
   ]
  },
  {
   "cell_type": "code",
   "execution_count": null,
   "metadata": {},
   "outputs": [],
   "source": [
    "# Try your code in this cell\n",
    "\n",
    "type(2)"
   ]
  },
  {
   "cell_type": "markdown",
   "metadata": {},
   "source": [
    "## Python basic operators for floats\n",
    "\n",
    "Python's operators work on floats as well.\n",
    "\n",
    "- `+`: plus  \n",
    "- `-`: minus  \n",
    "- `*`: multiply  \n",
    "- `/`: divide  \n",
    "- `**`: exponent (power)\n",
    "- `%`: modulo (remainder after division)\n",
    "\n",
    "Type these expressions yourself in the code cell below and run them to see the result.\n",
    "(Remember to press <kbd>Ctrl</kbd>+<kbd>Enter</kbd> with the cell selected to actually run the code.)\n",
    "\n",
    "1. `2 + 2.0`  \n",
    "   (_Unlike with integers, in any operation involving a float, Python will cast the result as a float._)\n",
    "2. `(3 + 4) * 2.0`  \n",
    "   (_Python follows mathematical order of operations for floats too_)\n",
    "3. `4 / 2`  \n",
    "   (_Python returns the result of division operations as a float, even if the answer can be represented as an integer._)\n",
    "4. `5.0 // 2`  \n",
    "   (_Even floor-division returns a float._)\n",
    "5. `3.0 ** 2`  \n",
    "   (_Even the power operator always returns a float result when either value is a float._)\n",
    "6. `2 % 2.0`\n",
    "7. `5 % 4.0`\n",
    "8. `5.0 / 0`  \n",
    "   (_Python will raise a `ZeroDivisionError` when dividing by zero._)\n",
    "9. `5.0 % 0`  \n",
    "   (_Python will raise a `ZeroDivisionError` with modulo zero._)"
   ]
  },
  {
   "cell_type": "code",
   "execution_count": null,
   "metadata": {},
   "outputs": [],
   "source": [
    "# Try your code in this cell\n",
    "\n",
    "2 % 2.0"
   ]
  },
  {
   "cell_type": "markdown",
   "metadata": {},
   "source": [
    "## Python comparators ##\n",
    "\n",
    "Python provides a few **comparators** for comparing objects or variables.  \n",
    "Comparison expressions evaluate to `True` if the expression is true, or `False` if the expression is false.\n",
    "\n",
    "The following operators are supported:\n",
    "\n",
    "- `a == b`  (`a` equal to `b`)  \n",
    "- `a != b`  (`a` not equal to `b`)  \n",
    "- `a < b`   (`a` less than `b`)  \n",
    "- `a <= b`  (`a` less than or equal to `b`)  \n",
    "- `a > b`   (`a` greater than `b`)  \n",
    "- `a >= b`  (`a` greater than or equal to `b`)\n",
    "\n",
    "`a` and `b` represent any of the values covered above.\n",
    "\n",
    "Run the following expressions one by one in the cell below:\n",
    "\n",
    "1. `1 == 1`  \n",
    "   (_Replace the `==` in this expression with the other comparators and see what result you get._)\n",
    "2. `1 == 2`  \n",
    "   (_Replace the `==` in this expression with the other comparators and see what result you get._)\n",
    "3. `'a' = 'a'`  \n",
    "   (_Comparators work on strings as well._)\n",
    "4. `'a' == 'A'`  \n",
    "   (_lowercase and uppercase strings are treated differently._)\n",
    "5. `(1 + 4) != (2 + 3)`  \n",
    "   (_Python can compare the result of expressions if they are enclosed in parentheses._)\n",
    "6. `1 + 4 == 2 + 3`  \n",
    "   (_... and can do so even if they are not! Comparison operators have lower precedence than arithmetic operators are are evaluated after them_)\n",
    "7. `'104' <= '1050'`  \n",
    "   (_Try the comparators with strings. Are you surprised by the result? Can you figure out what the rule for comparing strings is?_)"
   ]
  },
  {
   "cell_type": "code",
   "execution_count": null,
   "metadata": {},
   "outputs": [],
   "source": [
    "# Try your code in this cell\n",
    "\n"
   ]
  },
  {
   "cell_type": "markdown",
   "metadata": {},
   "source": [
    "## Python booleans\n",
    "\n",
    "Notice that the result of each line above is always `True` or `False` (case-sensitive). These are special data types known as **booleans**. There are only two boolean values, and they are the inverse of each other.\n",
    "\n",
    "Run the following expressions one by one in the cell below:\n",
    "\n",
    "1. `type(True)`  \n",
    "   (_booleans are a different data type fron integers and floats_)\n",
    "2. `not True`  \n",
    "   (_The keyword `not` in front of a Boolean reverses its value. Note that keywords and operators do not require parentheses._)\n",
    "3. `type(true)`  \n",
    "   (_Python raises a `NameError` here because it does not recognise `true` as a boolean. `True` and `False` booleans are special keywords and must always start with uppercase._)"
   ]
  },
  {
   "cell_type": "code",
   "execution_count": null,
   "metadata": {},
   "outputs": [],
   "source": [
    "# Try your code in this cell\n",
    "\n"
   ]
  },
  {
   "cell_type": "markdown",
   "metadata": {},
   "source": [
    "## Type conversions\n",
    "\n",
    "In Python, you can attempt to convert values of any type into a preferred type: `int()`, `float()`, `bool()`, and other types can be used as functions to convert values.\n",
    "\n",
    "Run the following expressions one by one in the cell below:\n",
    "\n",
    "1. `int(1.0)`  \n",
    "   (_floats can be converted to ints_)\n",
    "2. `int(2.5)`  \n",
    "   (_The fractional component is discarded when converting a float to int._)\n",
    "3. `float(4)`  \n",
    "   (_all ints can be converted to floats_)\n",
    "4. `int(True)`  \n",
    "   (_the booleans `True` and `False` are represented by the integers `1` and `0` respectively_)\n",
    "5. `bool(0)`  \n",
    "   (_the value `0` (and float equivalents of the value) are treated as `False` by Python; all other numbers are treated as `True`, even negative numbers. Try this with other numbers._)"
   ]
  },
  {
   "cell_type": "code",
   "execution_count": null,
   "metadata": {},
   "outputs": [],
   "source": [
    "# Try your code in this cell\n",
    "\n"
   ]
  },
  {
   "cell_type": "markdown",
   "metadata": {},
   "source": [
    "## Inserting comments\n",
    "\n",
    "Did you see this part of the line? `# Try your code in this cell`\n",
    "\n",
    "Python ignores everything typed after a `#` in the line. You can use this to insert comments in your code. Comments can be used to make notes for yourself to understand your code later.\n",
    "\n",
    "By convention, Python programmers leave a space between the `#` and the comment text."
   ]
  },
  {
   "cell_type": "markdown",
   "metadata": {},
   "source": [
    "## The `print()` function\n",
    "\n",
    "Python enables manipulation of data through **functions**.\n",
    "\n",
    "A function takes in zero, one, or more variables, and returns an output.\n",
    "\n",
    "To make Python **print** the result in the output, we can use the `print()` function. The print function requires an input variable to work. this input variable goes inside the parentheses of the `print()` function.\n",
    "\n",
    "Run the code cell below:"
   ]
  },
  {
   "cell_type": "code",
   "execution_count": null,
   "metadata": {},
   "outputs": [],
   "source": [
    "# Try your code in this cell\n",
    "\n",
    "print(3 > 2)\n",
    "print()\n",
    "print(5 == 5.0)\n",
    "print(5 == True, 0.0 == False)"
   ]
  },
  {
   "cell_type": "markdown",
   "metadata": {},
   "source": [
    "The `print()` function takes in zero or more arguments, and displays them. A space is inserted between arguments. Each `print()` function produces one line of output."
   ]
  },
  {
   "cell_type": "markdown",
   "metadata": {},
   "source": [
    "## Python data type: str (string)\n",
    "\n",
    "In the examples above, we were working only with numbers. One feature of Python that makes it very powerful is its ability to work with text as well.\n",
    "\n",
    "Text is stored as a string in Python. Python recognises anything between single-quotes `''` or double-quotes `\"\"` as a string.\n",
    "\n",
    "Run the following expressions one by one in the cell below:\n",
    "\n",
    "1. `type(1)`  \n",
    "   (_This is an integer._)\n",
    "2. `type(1.0)`  \n",
    "   (_This is a float. Decimal numbers are known as **float**s._)\n",
    "3. `type('1')`  \n",
    "   (_This is a `str`ing._)\n",
    "4. `type(\"1\")`  \n",
    "   (_This is also a `str`ing._)\n",
    "5. `str(True)`  \n",
    "   (_The `str()` function returns a `str` representation of its argument._)"
   ]
  },
  {
   "cell_type": "code",
   "execution_count": null,
   "metadata": {},
   "outputs": [],
   "source": [
    "# Try your code in this cell\n",
    "\n",
    "type(1)"
   ]
  },
  {
   "cell_type": "markdown",
   "metadata": {},
   "source": [
    "## Single or double quotes?\n",
    "\n",
    "Run the following lines one by one in the cell below:\n",
    "\n",
    "1. `print(\"This is a string.\")`\n",
    "2. `print(\"Is this a \"string\"?\")`\n",
    "3. `print(\"It's a string!\")`\n",
    "4. `print('What's a string?')`"
   ]
  },
  {
   "cell_type": "code",
   "execution_count": null,
   "metadata": {},
   "outputs": [],
   "source": [
    "# Try your code in this cell\n",
    "\n"
   ]
  },
  {
   "cell_type": "markdown",
   "metadata": {},
   "source": [
    "- single quotes may not be used within a single-quoted string.\n",
    "- double-quotes may not be used within a double-quoted string."
   ]
  },
  {
   "cell_type": "markdown",
   "metadata": {},
   "source": [
    "## Python string concatenation and repetition operators: `+`, `*`\n",
    "\n",
    "Run the following expressions one by one in the cell below:\n",
    "\n",
    "1. `\"This\" \"string\"`  \n",
    "   (_Adjacent strs without any operators will be joined together._)\n",
    "2. `\"This\" + \" \" + \"string\"`  \n",
    "   (_The `+` operator joins strs; this is called **concatenation**._)\n",
    "3. `\"This \" + \"joins \" + 3 + \"strings\"`  \n",
    "   (_The `+` operator only works on expressions with ints *or* strs, but not both._)\n",
    "4. `\"This \" + \"joins \" + str(3) + \"strings\"`  \n",
    "   (_Convert ints to str to concatenate them to strs._)\n",
    "5. `print(\"This\", \"joins\", 3, \"strings\")`  \n",
    "   (_The `print()` function **auto-converts other data types to str**._)\n",
    "6. `\"This\" - \"joins\"`  \n",
    "   (_Strings do not work with the other arithmetic operators._)\n",
    "7. `print(\"Many\" * 3, \"strings\")`  \n",
    "   (_Strings may be repeated with the `*` operator followed by an integer._)"
   ]
  },
  {
   "cell_type": "code",
   "execution_count": null,
   "metadata": {},
   "outputs": [],
   "source": [
    "# Try your code in this cell\n",
    "\n"
   ]
  },
  {
   "cell_type": "markdown",
   "metadata": {},
   "source": [
    "## Comparing Python strings ##\n",
    "\n",
    "Run the following expressions one by one in the cell below:\n",
    "\n",
    "1. `'a' == 'a'`  \n",
    "   (_Comparators work on strings as well._)\n",
    "2. `'a' == 'A'`  \n",
    "   (_lowercase and uppercase strings are treated differently._)\n",
    "3. `'1' == 1`  \n",
    "   (_Comparison of different types always evaluates to `False`. Be careful with typos._)\n",
    "3. `'104' <= '1050'`  \n",
    "   (_Are you surprised by the result? Can you figure out what the rule for comparing strings is?_)"
   ]
  },
  {
   "cell_type": "code",
   "execution_count": null,
   "metadata": {},
   "outputs": [],
   "source": [
    "# Try your code in this cell\n",
    "\n"
   ]
  },
  {
   "cell_type": "markdown",
   "metadata": {},
   "source": [
    "## Python errors: `SyntaxError`\n",
    "\n",
    "When Python is not able to carry out an operation in the code you typed, it will halt the program \n",
    "and raise an error.\n",
    "\n",
    "One common error you might encounter from running the code so far is `SyntaxError`. Syntax refers to the grammatical rules of the programming language. Some examples of syntax rules are below:\n",
    "\n",
    "1. The number of opening parentheses \"`(`\" must match the number of closing parentheses \"`)`\".\n",
    "2. Both sides of the assignment operator `=` must have a valid expression  \n",
    "...\n",
    "\n",
    "and so on.\n",
    "\n",
    "A `SyntaxError` means there is a problem with your syntax and the Python interpreter is unable to understand your code.\n",
    "\n",
    "Run the following lines of code one by one and see what message is returned with `SyntaxError`:\n",
    "\n",
    "1. `num1 =`  \n",
    "   (\"**SyntaxError:** invalid syntax\" _means this expression is not valid_)\n",
    "2. `print(2 + 2`  \n",
    "   (\"**SyntaxError:** unexpected EOF while parsing\" _means this expression is incomplete. Python unexpectedly reached the **End Of File**, also known as **EOF**, before the expression is complete._)"
   ]
  },
  {
   "cell_type": "code",
   "execution_count": null,
   "metadata": {},
   "outputs": [],
   "source": [
    "# Try your code in this cell\n",
    "\n"
   ]
  },
  {
   "cell_type": "markdown",
   "metadata": {},
   "source": [
    "# Summary\n",
    "\n",
    "Research shows that **active recall**, the mental effort of attempting to remember, helps strengthen neuron connections. For each of the questions below, try to recall what you learnt from this lesson before you click to reveal.\n",
    "\n",
    "<ol>\n",
    "\n",
    "<li><details>\n",
    "    <summary>What are the basic data types covered in this lesson? (click to reveal)</summary>\n",
    "    <ul>\n",
    "        <li>int</li>\n",
    "        <li>float</li>\n",
    "        <li>bool</li>\n",
    "        <li>str</li>\n",
    "    </ul>\n",
    "</details></li>\n",
    "    \n",
    "<li><details>\n",
    "    <summary>What are the arithmetic operators? (click to reveal)</summary>\n",
    "    <ul>\n",
    "        <li><code>+</code>: plus (int, float) / concatenation (str)</li>\n",
    "        <li><code>-</code>: minus</li>\n",
    "        <li><code>*</code>: multiply (int, float) / repetition (str)</li>\n",
    "        <li><code>/</code>: divide</li>\n",
    "        <li><code>//</code>: floor division (round down)</li>\n",
    "        <li><code>%</code>: modulus (remainder)</li>\n",
    "    </ul>\n",
    "</details></li>\n",
    "    \n",
    "<li><details>\n",
    "    <summary>What are the comparison operators? (click to reveal)</summary>\n",
    "    <ul>\n",
    "        <li><code>==</code>: equal</li>\n",
    "        <li><code>!=</code>: not equal</li>\n",
    "        <li><code>&gt;</code>: greater than</li>\n",
    "        <li><code>&gt;=</code>: greater than or equal</li>\n",
    "        <li><code>&lt;</code>: less than</li>\n",
    "        <li><code>&lt;=</code>: less than or equal</li>\n",
    "    </ul>\n",
    "</details></li>\n",
    "\n",
    "<li><details>\n",
    "    <summary>What does the <code>print()</code> function do? (click to reveal)</summary>\n",
    "    <p>Display the arguments passed to the user</p>\n",
    "</details></li>\n",
    "\n",
    "<li><details>\n",
    "    <summary>What does the <code>type()</code> function do? (click to reveal)</summary>\n",
    "    <p>Return the argument's type</p>\n",
    "</details></li>\n",
    "    \n",
    "<li><details>\n",
    "    <summary>What does it mean when I get a <code>SyntaxError</code>? (click to reveal)</summary>\n",
    "    <p>The code does not follow correct Python syntax</p>\n",
    "</details></li>\n",
    "\n",
    "</ol>"
   ]
  }
 ],
 "metadata": {
  "kernelspec": {
   "display_name": "Python 3 (ipykernel)",
   "language": "python",
   "name": "python3"
  },
  "language_info": {
   "codemirror_mode": {
    "name": "ipython",
    "version": 3
   },
   "file_extension": ".py",
   "mimetype": "text/x-python",
   "name": "python",
   "nbconvert_exporter": "python",
   "pygments_lexer": "ipython3",
   "version": "3.7.7"
  }
 },
 "nbformat": 4,
 "nbformat_minor": 2
}
