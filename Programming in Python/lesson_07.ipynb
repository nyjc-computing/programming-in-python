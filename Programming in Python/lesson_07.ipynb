{
 "cells": [
  {
   "cell_type": "markdown",
   "metadata": {},
   "source": [
    "## 1-minute introduction to Jupyter ##\n",
    "\n",
    "A Jupyter notebook consists of cells. Each cell contains either text or code.\n",
    "\n",
    "A text cell will not have any text to the left of the cell. A code cell has `In [ ]:` to the left of the cell.\n",
    "\n",
    "If the cell contains code, you can edit it. Press <kbd>Enter</kbd> to edit the selected cell. While editing the code, press <kbd>Enter</kbd> to create a new line, or <kbd>Shift</kbd>+<kbd>Enter</kbd> to run the code. If you are not editing the code, select a cell and press <kbd>Ctrl</kbd>+<kbd>Enter</kbd> to run the code."
   ]
  },
  {
   "cell_type": "markdown",
   "metadata": {},
   "source": [
    "# Lesson 7: Debugging -trace tables\n",
    "\n",
    "A simple algorithm for calculating the lowest common multiple of integers `a` and `b` is as follows:\n",
    "\n",
    "1. Check if `a` and `b` are equal\n",
    "2. If they are equal, `a == b == lcm` (lowest common multiple) [EXIT]\n",
    "3. If they are not equal, check whether `a` or `b` is smaller.\n",
    "4. The smaller variable is incremented by its original value.\n",
    "5. Go back to Step 1"
   ]
  },
  {
   "cell_type": "markdown",
   "metadata": {},
   "source": [
    "## Debugging\n",
    "\n",
    "When debugging our code, sometimes it can be difficult to figure out which part of a loop is incorrect. Take the following code:"
   ]
  },
  {
   "cell_type": "code",
   "execution_count": null,
   "metadata": {},
   "outputs": [],
   "source": [
    "def lcm(a: int, b: int) -> int:\n",
    "    while a != b:\n",
    "        if a < b:\n",
    "            a += a\n",
    "        else:\n",
    "            b += b\n",
    "    return a\n",
    "\n",
    "lcm(3, 4)"
   ]
  },
  {
   "cell_type": "markdown",
   "metadata": {},
   "source": [
    "This code fails to terminate, and it's hard to tell what's going on without further information (unless you have extensive debugging experience)."
   ]
  },
  {
   "cell_type": "markdown",
   "metadata": {},
   "source": [
    "## Trace tables\n",
    "\n",
    "While debugging a function or program, we should know beforehand the result at each step of the algorithm. Applying the above algorithm manually, we would expect the following values of `a` and `b` at the end of each iteration:\n",
    "\n",
    "| Iteration | a | b |\n",
    "|:---------:|:-:|:-:|\n",
    "|     0     | 3 | 4 |\n",
    "|     1     | 6 | 4 |\n",
    "|     2     | 6 | 8 |\n",
    "|     3     | 9 | 8 |\n",
    "|     4     | 9 | 12|\n",
    "|     5     | 12| 12|\n",
    "\n",
    "<center><small>Table 1: Trace table of LCM algorithm with a = 3 and b = 4</small></center>\n",
    "\n",
    "The above table is called a **trace table**, and provides a useful way to check our program for the correct operation.\n",
    "\n",
    "### Exercise\n",
    "\n",
    "The code cell below prints the values of `a` and `b` at the end of each iteration of the loop. However, the program still does not respond; it might be caught in an infinite loop.\n",
    "\n",
    "Edit the code cell so that:\n",
    "1. it counts iterations, keeping track of them in an appropriately-named variable,\n",
    "2. in addition to the existing condition, the `while` loop terminates when the number of iterations crosses a reasonable value (e.g. 10000),\n",
    "3. in addition to printing the values of `a` and `b`, it also prints the iteration count."
   ]
  },
  {
   "cell_type": "code",
   "execution_count": null,
   "metadata": {},
   "outputs": [],
   "source": [
    "def lcm(a: int, b: int) -> int:\n",
    "    while a != b:\n",
    "        if a < b:\n",
    "            a += a\n",
    "        else:\n",
    "            b += b\n",
    "        print('a =', a, ', b=', b)\n",
    "    return a\n",
    "\n",
    "lcm(3, 4)"
   ]
  },
  {
   "cell_type": "markdown",
   "metadata": {},
   "source": [
    "With a trace table, it is easy to see at which step your algorithm started to deviate from expected behaviour. This is immensely helpful in debugging.\n",
    "\n",
    "This may seem tedious, but with practice, you can *imagine* the outcome of the trace table in your head (or at least the important parts of it), and check that against the outcome of the `print()` statements.\n",
    "\n",
    "Debugging ability sets apart novice programmers from the expert programmers, so when you come across errors, do try to understand how they happened, rather than just ignoring them the moment you find a code change that works without your understanding how it works."
   ]
  },
  {
   "cell_type": "markdown",
   "metadata": {},
   "source": [
    "## Pseudocode\n",
    "\n",
    "Some algorithms can be very lengthy if written in English. Even if the english description is short, most algorithms benefit from a clearer description. Thus, algorithms are often presented in a language called **pseudocode**, which looks like a programming language but cannot be run as a program.\n",
    "\n",
    "Presented below is one way of presenting the above LCM algorithm as pseudocode:\n",
    "\n",
    "```\n",
    "FUNCTION LCM(A : INTEGER, B : INTEGER) RETURNS INTEGER\n",
    "    A0 = A\n",
    "    B0 = B\n",
    "    WHILE A <> B DO  // <> means \"not equal\"\n",
    "        IF A < B\n",
    "          THEN\n",
    "            A = A + A0\n",
    "          ELSE\n",
    "            B = B + B0\n",
    "        ENDIF\n",
    "    ENDWHILE\n",
    "    RETURN A\n",
    "ENDFUNCTION\n",
    "```\n",
    "\n",
    "Notice that unlike in Python, most keywords in pseudocode have a terminal (ending) `END` keyword that indicates where the code block ends. Python is rare in that it relies entirely on indentation to indicate the scope of code blocks; most other languages have a symbol or keyword to indicate where code blocks end.\n",
    "\n",
    " For the full guide on Pseudocode, look through the [9608 Pseudocode Reference](https://drive.google.com/drive/folders/1IlcYw9LlREiQuKZ5EJvxTt3mebQw2b2F)"
   ]
  },
  {
   "cell_type": "markdown",
   "metadata": {},
   "source": [
    "## What is a debugger?\n",
    "\n",
    "Sometimes, your program does not do what you think it does. It produces the wrong output, or crashes. To detect and resolve the error, you often need to inspect the “contents” of your program: its variables and objects.\n",
    "\n",
    "Most programming languages provide tools to inspect the contents of a program as it is running. This tool is called a debugger.\n",
    "\n",
    "Python has a built-in debugger, called `pdb`, which you can use to inspect the contents of your Python program. When you call the Python debugger, your program pauses at the calling point, and gives you a prompt you can use to inspect program contents."
   ]
  },
  {
   "cell_type": "markdown",
   "metadata": {},
   "source": [
    "### Using the Python debugger, `pdb`\n",
    "\n",
    "For Python versions 3.6 and earlier, and in Jupyter Notebook, insert the following expression:\n",
    "\n",
    "    import pdb; pdb.set_trace()\n",
    "\n",
    "This is called a breakpoint.\n",
    "\n",
    "In Python 3.7 and later, you can use the `breakpoint()` built-in function call to do the same thing without the need to import the `pdb` module.\n",
    "\n",
    "When you hit the breakpoint, you will see a `(Pdb)` prompt. If you didn’t hit a breakpoint, it means that line was never reached/executed. While the breakpoint is active, you can use commands to step through the code or inspect the value of variables and objects that are in scope.\n",
    "\n",
    "While inside pdb, any errors that are thrown are displayed, but these errors will not cause the program to terminate. This makes debugging less frustrating.\n",
    "\n",
    "### Invoking pdb conditionally\n",
    "\n",
    "If you have a 1000-iteration loop with a mysterious error that only occurs on the 534th iteration, it would be too tedious to step through the debugger until an error occurs.\n",
    "\n",
    "One way to only invoke the breakpoint when a certain condition is met is to put the breakpoint expression within an if statement:\n",
    "\n",
    "#### Invoking breakpoint on the nth iteration\n",
    "\n",
    "    for i in <...>:\n",
    "        if i == n:\n",
    "            breakpoint()\n",
    "\n",
    "#### Invoking breakpoint only for an item matching target:\n",
    "\n",
    "    for item in <...>:\n",
    "        if item == target:\n",
    "            breakpoint()\n",
    "\n",
    "#### Invoking pdb at the point where an error occurs\n",
    "\n",
    "Sometimes a particular line of code in a loop does not always cause an error, and it is not clear why the error occurs. We can wrap the line in a `try-except` statement (covered in later lessons) to invoke a breakpoint:\n",
    "\n",
    "#### Invoke breakpoint only if an error occurs:\n",
    "\n",
    "    try:\n",
    "        <code that sometimes works and sometimes causes an error>\n",
    "    except Exception as err:\n",
    "        breakpoint()\n",
    "\n",
    "Some code is executed in the `try` clause. If an error occurs, the except clause is reached, resulting in a breakpoint being invoked.\n",
    "\n",
    "### `pdb` commands\n",
    "\n",
    "Most of the time, while in `(Pdb)`, you can type expressions to be evaluated. Usually we will do this to inspect objects. But `(Pdb)` also takes commands. In the following summarised list, you can use either the command or its shortcut:\n",
    "\n",
    "| Command  | Shortcut |                 Action                 |\n",
    "|   :-:    |   :-:    |                   :-                   |\n",
    "|   quit   |    q     | Quit the debugger and abort the program. |\n",
    "| restart  |          | Restart the Python program. |\n",
    "|          |    p     | Print the evaluated value of the expression after `p`. |\n",
    "|   step   |    s     | Execute the current line; if any functions/methods are called, pause on the first line inside them. |\n",
    "|   next   |    n     | Continue execution (without stepping into functions/methods) and pause at the next line. |\n",
    "|  return  |    r     | Continue execution until the current function/method returns. |\n",
    "| continue |    c     | Continue execution until the next breakpoint is encountered, or the program ends. |\n",
    "\n",
    "Note that this means you will not be able to check the value of variables if those variables have the same name as the above commands or shortcuts. You will need to prepend a `p` in front of them to tell pdb to print them.\n",
    "\n",
    "### Debugging with pdb\n",
    "\n",
    "So what happens when you get thrown into the debugger? You apply the same skills you used in reading error messages: inspect the available variables, verify that they match your assumptions. You can also run short code snippets in the debugger to test them.\n"
   ]
  }
 ],
 "metadata": {
  "kernelspec": {
   "display_name": "Python 3 (ipykernel)",
   "language": "python",
   "name": "python3"
  },
  "language_info": {
   "codemirror_mode": {
    "name": "ipython",
    "version": 3
   },
   "file_extension": ".py",
   "mimetype": "text/x-python",
   "name": "python",
   "nbconvert_exporter": "python",
   "pygments_lexer": "ipython3",
   "version": "3.7.7"
  }
 },
 "nbformat": 4,
 "nbformat_minor": 2
}
