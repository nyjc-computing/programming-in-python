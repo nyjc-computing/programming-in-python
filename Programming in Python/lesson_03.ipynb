{
 "cells": [
  {
   "cell_type": "markdown",
   "metadata": {},
   "source": [
    "## 1-minute introduction to Jupyter ##\n",
    "\n",
    "A Jupyter notebook consists of cells. Each cell contains either text or code.\n",
    "\n",
    "A text cell will not have any text to the left of the cell. A code cell has `In [ ]:` to the left of the cell.\n",
    "\n",
    "If the cell contains code, you can edit it. Press <kbd>Enter</kbd> to edit the selected cell. While editing the code, press <kbd>Enter</kbd> to create a new line, or <kbd>Shift</kbd>+<kbd>Enter</kbd> to run the code. If you are not editing the code, select a cell and press <kbd>Ctrl</kbd>+<kbd>Enter</kbd> to run the code."
   ]
  },
  {
   "cell_type": "markdown",
   "metadata": {},
   "source": [
    "# Lesson 3: Selection\n",
    "\n",
    "A program that can only follow a fixed sequence of steps is not very flexible and cannot be used to do much. At some point, we will want to do different things depending on certain conditions. This computational feature is called **selection**.\n",
    "\n",
    "For example, we may need input from a user."
   ]
  },
  {
   "cell_type": "markdown",
   "metadata": {},
   "source": [
    "### Python function: `input()`\n",
    "\n",
    "Sometimes, you need the user to give you some data for you to use in your program. One way to get simple input is using the `input()` function.\n",
    "\n",
    "Run the expression in the cell below without changing it. Type in different things in the input box and see what you get."
   ]
  },
  {
   "cell_type": "code",
   "execution_count": null,
   "metadata": {},
   "outputs": [],
   "source": [
    "# Try your code in this cell\n",
    "\n",
    "var = input('Type something: ')\n",
    "var_type = type(var)\n",
    "print('Your input is type', var_type)"
   ]
  },
  {
   "cell_type": "markdown",
   "metadata": {},
   "source": [
    "In the code cell below, use the `help()` function (covered at the end of Lesson 2) to see how to use the `input()` function:"
   ]
  },
  {
   "cell_type": "code",
   "execution_count": null,
   "metadata": {},
   "outputs": [],
   "source": [
    "# Try your code in this cell\n",
    "\n"
   ]
  },
  {
   "cell_type": "markdown",
   "metadata": {},
   "source": [
    "The `input()` function takes in a prompt, which is a string that is displayed to the user, and returns the user's input.\n",
    "\n",
    "Notice that the return value is always treated as a string, even if you only keyed in numbers. If you want numerical input, you will have to manually **cast** the input string to `int` using the `int()` function, or to `float` using the `float()` function."
   ]
  },
  {
   "cell_type": "markdown",
   "metadata": {},
   "source": [
    "### Jupyter notebook troubleshooting: hanging input\n",
    "\n",
    "In Jupyter notebook, if you leave an input box open and try to run another cell, your notebook will stop responding. This is a limitation of jupyter notebook's web interface. To avoid this problem, type something into the input first to close it, before you attempt to run other cells.\n",
    "\n",
    "**Resolution**\n",
    "\n",
    "If you accidentally run another cell while an input box is open, the cell will stop responding. You can tell because the left of the cell shows `[*]:` for a long time (more than a few seconds) and nothing happens.\n",
    "\n",
    "If you run into this problem, do a restart: from the menu, select **Kernel > Restart**. Optionally, you can also choose **Restart & Clear Output** or **Restart & Run All**."
   ]
  },
  {
   "cell_type": "markdown",
   "metadata": {},
   "source": [
    "\n",
    "\n",
    "Run the cells below:"
   ]
  },
  {
   "cell_type": "code",
   "execution_count": null,
   "metadata": {},
   "outputs": [],
   "source": [
    "var = input('Type a number: ')\n",
    "int(var)"
   ]
  },
  {
   "cell_type": "code",
   "execution_count": null,
   "metadata": {},
   "outputs": [],
   "source": [
    "var = input('Type another number: ')\n",
    "float(var)"
   ]
  },
  {
   "cell_type": "markdown",
   "metadata": {},
   "source": [
    "Try the cells above with letters; this will cause a `ValueError` to be raised, crashing our program. We will need to check whether the string represents a valid integer before we proceed with the conversion: we need to use selection!\n",
    "\n",
    "### Crash course: object methods\n",
    "\n",
    "In Python, each value is an object. Each type of object has methods specific to it. These methods are special functions that operate on the object; a more detailed treatment of objects and methods will be covered in a later lesson.\n",
    "\n",
    "Methods are called using `object.method()` notation. For example, `str`s in Python have an `isdecimal()` method that checks if the string consists only of the decimal numbers `0`-`9`:"
   ]
  },
  {
   "cell_type": "code",
   "execution_count": null,
   "metadata": {},
   "outputs": [],
   "source": [
    "# Run the code cell below and try inputting different values, both valid and invalid integers\n",
    "\n",
    "var = input('Type a number: ')\n",
    "print(\"var.isdecimal():\", var.isdecimal())"
   ]
  },
  {
   "cell_type": "markdown",
   "metadata": {},
   "source": [
    "## The `if-else` statement\n",
    "\n",
    "In Python, selection is implemented using the `if` statement. The syntax of an `if` statement uses the `if` and `else` keywords as follows:\n",
    "\n",
    "```python\n",
    "if <conditional expression>:\n",
    "    <statement1>\n",
    "    ...\n",
    "```\n",
    "\n",
    "If the conditional expression evaluates to `True`, the statements indented below it are executed. If the conditional expression evaluates to `False`, the statements are not executed.\n",
    "\n",
    "**Note:** Once Python encounters a statement that is not indented, it assumes the `if` branch has exited.\n",
    "\n",
    "The `if` statement can also be used with the `else` keyword:\n",
    "\n",
    "```python\n",
    "if <conditional expression>:\n",
    "    <statement1>\n",
    "    ...\n",
    "else:\n",
    "    <statement10>\n",
    "    ...\n",
    "```\n",
    "\n",
    "This splits the code into two branches: one branch where the expression is `True`, which executes `<statement1>` and other statements below it, and another branch where the expression is not `True`, which executes `<statement10>` and other statements below it."
   ]
  },
  {
   "cell_type": "markdown",
   "metadata": {},
   "source": [
    "## Data validation\n",
    "\n",
    "**Data validation** is the checking of data to ensure that it adheres to specific requirements before use. The code below **validate**s the user's input to ensure it represents a valid integer before it is converted to an `int`:"
   ]
  },
  {
   "cell_type": "code",
   "execution_count": null,
   "metadata": {},
   "outputs": [],
   "source": [
    "var = input('Type a number: ')\n",
    "if var.isdecimal():\n",
    "    print(\"You entered:\", var)\n",
    "    var = int(var)\n",
    "else:\n",
    "    print(var, \"is not a valid number\")"
   ]
  },
  {
   "cell_type": "markdown",
   "metadata": {},
   "source": [
    "The program stops immediately if an invalid number is entered. In real-world use, we would usually want to prompt the user again to enter a valid number; we will do so in a later lesson.\n",
    "\n",
    "### Exercise 1\n",
    "\n",
    "Let's apply *abstraction*: define a function that:\n",
    "\n",
    "1. Prompts the user for a number\n",
    "2. Validates the input to check if it represents a valid integer,\n",
    "   - if `True`, returns the user's input **as an integer** (i.e. convert it to an `int`)\n",
    "   - otherwise, display an error message"
   ]
  },
  {
   "cell_type": "code",
   "execution_count": null,
   "metadata": {},
   "outputs": [],
   "source": [
    "def prompt_valid_number():\n",
    "    \"\"\"Prompts the user for a number.\n",
    "    Returns the number as an integer if input is valid, otherwise displays an error message.\n",
    "    \"\"\"\n",
    "    #Write your code below\n",
    "    "
   ]
  },
  {
   "cell_type": "markdown",
   "metadata": {},
   "source": [
    "## Validate phone numbers\n",
    "\n",
    "Validation requirements are often more complex than just a single check. For example, to validate a Singapore mobile number, we check that:\n",
    "\n",
    "- it consists of decimal digits only\n",
    "- it has 8 characters\n",
    "- it begins with a 6, 8, or 9\n",
    "\n",
    "Using `if-else` only, our code might look like this:"
   ]
  },
  {
   "cell_type": "code",
   "execution_count": null,
   "metadata": {},
   "outputs": [],
   "source": [
    "# Run this code cell\n",
    "\n",
    "userinput = input('Type a phone number: ')\n",
    "if not userinput.isdecimal():\n",
    "    print(\"Type digits only\")\n",
    "else:\n",
    "    if len(userinput) != 8:\n",
    "        print(\"Phone number consists of 8 digits\")\n",
    "    else:\n",
    "        print(\"You entered:\", var)"
   ]
  },
  {
   "cell_type": "markdown",
   "metadata": {},
   "source": [
    "Notice that each additional condition adds one more level of indentation. At this rate, if we add another 2 or 3 conditions our code is going to be quite deeply indented!\n",
    "\n",
    "Python provides an `elif` keyword that works like an `else if`. The code in the cell below is functionally equivalent to the code in the cell above:"
   ]
  },
  {
   "cell_type": "code",
   "execution_count": null,
   "metadata": {},
   "outputs": [],
   "source": [
    "userinput = input('Type a phone number: ')\n",
    "if not userinput.isdecimal():\n",
    "    print(\"Type digits only\")\n",
    "elif len(userinput) != 8:\n",
    "    print(\"Phone number consists of 8 digits\")\n",
    "else:\n",
    "    print(\"You entered:\", var)"
   ]
  },
  {
   "cell_type": "markdown",
   "metadata": {},
   "source": [
    "Note that an `if` statement:\n",
    "- can have no `else` branch\n",
    "- can have an `elif` branch without an `else` branch\n",
    "- can have an `else` branch without an `elif` branch\n",
    "- can have multiple `elif` branches, but only one `else`"
   ]
  },
  {
   "cell_type": "markdown",
   "metadata": {},
   "source": [
    "## Checking for multiple conditions with logical operators\n",
    "\n",
    "Revisit [Python booleans in Lesson 1](lesson_01.ipynb#Python-booleans) for a refresher.\n",
    "\n",
    "Each condition used with `if` or `elif` above returns only one result: `True` or `False`. When we needed to check multiple conditions, we used a **nested `if`** statement (e.g. to check that it has at least 1 decimal, **and then check** that it has only one decimal.) These nested `if` statements are nested within the outer `if` block; they are indented relative to the outer `if` block.\n",
    "\n",
    "In other programming languages, as well as Python, we can chain multiple conditions together using **boolean logic**. In boolean logic, we use 3 additional operator keywords to join conditions together:\n",
    "\n",
    "- The `and` keyword returns a result of `True` only if both conditions are `True`.\n",
    "\n",
    "  ```\n",
    "  >>> True and True\n",
    "  True\n",
    "  >>> True and False\n",
    "  False\n",
    "  >>> False and False\n",
    "  False\n",
    "  ```\n",
    "- The `or` keyword returns a result of `True` if either condition is `True`.\n",
    "\n",
    "  ```\n",
    "  >>> True or True\n",
    "  True\n",
    "  >>> True or False\n",
    "  True\n",
    "  >>> False or False\n",
    "  False\n",
    "  ```\n",
    "- The `not` keyword reverses the condition.\n",
    "\n",
    "  ```\n",
    "  >>> not True\n",
    "  False\n",
    "  >>> not False\n",
    "  True\n",
    "  ```"
   ]
  },
  {
   "cell_type": "markdown",
   "metadata": {},
   "source": [
    "### Grouping logical comparators\n",
    "\n",
    "We can also chain three or more boolean conditions using boolean operators. The conditions are evaluated pair by pair, from left to right:\n",
    "\n",
    "  ```\n",
    "  >>> True or True\n",
    "  True\n",
    "  >>> True or True and False\n",
    "  True\n",
    "  ```\n",
    "  \n",
    "You can control the order in which the pairs are evaluated using parentheses:\n",
    "  \n",
    "  ```\n",
    "  >>> (True or True) and False\n",
    "  False\n",
    "  ```\n",
    "\n",
    "Try it yourself below:"
   ]
  },
  {
   "cell_type": "code",
   "execution_count": null,
   "metadata": {},
   "outputs": [],
   "source": [
    "True or True and False"
   ]
  },
  {
   "cell_type": "code",
   "execution_count": null,
   "metadata": {},
   "outputs": [],
   "source": [
    "# Try your code here\n",
    "\n",
    "True or True"
   ]
  },
  {
   "cell_type": "markdown",
   "metadata": {},
   "source": [
    "### Crash course: `str.startswith()`, `str.endswith()` methods\n",
    "\n",
    "Python `str`s have two methods to check if the `str` begins or ends with a certain sequence of characters. Both methods take in a string and return a boolean."
   ]
  },
  {
   "cell_type": "code",
   "execution_count": null,
   "metadata": {},
   "outputs": [],
   "source": [
    "phone_number = \"64847676\"\n",
    "print(phone_number.startswith('6'))"
   ]
  },
  {
   "cell_type": "markdown",
   "metadata": {},
   "source": [
    "Our phone number validation code earlier was incomplete; we did not include the checks for the initial decimal digit. Let's incorporate that using the logical operators and string methods:"
   ]
  },
  {
   "cell_type": "code",
   "execution_count": null,
   "metadata": {},
   "outputs": [],
   "source": [
    "userinput = input('Type a phone number: ')\n",
    "if not userinput.isdecimal():\n",
    "    print(\"Type digits only\")\n",
    "elif len(userinput) != 8:\n",
    "    print(\"Phone number consists of 8 digits\")\n",
    "elif not (userinput.startswith(\"6\") or userinput.startswith(\"8\") or userinput.startswith(\"9\")):\n",
    "    print(\"Phone number must begin with 6, 8, or 9\")\n",
    "else:\n",
    "    print(\"You entered:\", userinput)"
   ]
  },
  {
   "cell_type": "markdown",
   "metadata": {},
   "source": [
    "Line 6 above looks like a really troublesome way to check for the starting decimal. Won't the following work instead?\n",
    "\n",
    "### Troubleshooting\n",
    "\n",
    "Do the following examples work? Why or why not?"
   ]
  },
  {
   "cell_type": "code",
   "execution_count": null,
   "metadata": {},
   "outputs": [],
   "source": [
    "# Example 1 (run this code cell to see the result)\n",
    "phone_number = \"94847676\"\n",
    "print(phone_number.startswith('689'))"
   ]
  },
  {
   "cell_type": "markdown",
   "metadata": {},
   "source": [
    "The above code checks if the phone number starts with `'689'`, which is not what we want."
   ]
  },
  {
   "cell_type": "code",
   "execution_count": null,
   "metadata": {},
   "outputs": [],
   "source": [
    " (run this code cell to see the result)# Example 2\n",
    "phone_number = \"94847676\"\n",
    "print(phone_number.startswith('6' or '8' or '9'))"
   ]
  },
  {
   "cell_type": "markdown",
   "metadata": {},
   "source": [
    "This example does not work because Python evaluates the expression in the `startswith()` method call as:"
   ]
  },
  {
   "cell_type": "code",
   "execution_count": null,
   "metadata": {},
   "outputs": [],
   "source": [
    "'6' or '8' or '9'"
   ]
  },
  {
   "cell_type": "markdown",
   "metadata": {},
   "source": [
    "Effectively, this becomes a check only for `'6'`. Why does this happen?"
   ]
  },
  {
   "cell_type": "markdown",
   "metadata": {},
   "source": [
    "### Non-evaluative checking\n",
    "\n",
    "Boolean logic has a special feature: under certain circumstances, it can return a result after the first condition without having to evaluate subsequent conditions.\n",
    "\n",
    "Notice that the following statements return the same result:\n",
    "\n",
    "- `False and True` gives the same return value as `False and False`\n",
    "- `True or False` gives the same return value as `True or True`\n",
    "\n",
    "When using the `and` keyword, if the first condition returns `False`, the second condition **doesn't matter**! Likewise, when using the `or` keyword, if the first condition returns `True`, the second condition doesn't matter either.\n",
    "\n",
    "We can prove this by first coming up with an expression that will throw an error. Can you think of one?"
   ]
  },
  {
   "cell_type": "code",
   "execution_count": null,
   "metadata": {},
   "outputs": [],
   "source": [
    "#Come up with a statement that will throw an error:\n",
    "\n",
    "# TypeError? \n",
    "# ValueError? \n",
    "# NameError?\n",
    "# IndexError?\n"
   ]
  },
  {
   "cell_type": "markdown",
   "metadata": {},
   "source": [
    "Add it to a boolean logic expression:"
   ]
  },
  {
   "cell_type": "code",
   "execution_count": null,
   "metadata": {},
   "outputs": [],
   "source": [
    "#Replace the underscores (_____) with your error-throwing statement:\n",
    "True and _____\n",
    "\n"
   ]
  },
  {
   "cell_type": "markdown",
   "metadata": {},
   "source": [
    "This should throw an error, because the expression is evaluated. But if we run it with a different first condition:"
   ]
  },
  {
   "cell_type": "code",
   "execution_count": null,
   "metadata": {},
   "outputs": [],
   "source": [
    "#Replace the underscores (_____) with your error-throwing statement:\n",
    "False and _____\n",
    "\n"
   ]
  },
  {
   "cell_type": "markdown",
   "metadata": {},
   "source": [
    "This time, it is able to return a result without error. The second expression is not being evaluated!\n",
    "\n",
    "**Now you try: Verify non-evaluative checking**\n",
    "\n",
    "In the code cell below, write code to verify that the second expression is not evaluated when the `or` keyword is used with `True` as the first condition."
   ]
  },
  {
   "cell_type": "code",
   "execution_count": null,
   "metadata": {},
   "outputs": [],
   "source": [
    "#Write code to verify that the second statement is not evaluated:\n",
    "\n"
   ]
  },
  {
   "cell_type": "markdown",
   "metadata": {},
   "source": [
    "Note that because of non-evaluative checking, logical operators `and` & `or` have lower precendence than arithmetic and comparison operators. `not`, on the other hand, has higher precedence than `and` & `or`.\n",
    "\n",
    "You can see the full information on Python operator precedence at https://docs.python.org/3/reference/expressions.html#operator-precedence."
   ]
  },
  {
   "cell_type": "markdown",
   "metadata": {},
   "source": [
    "## Boolean logic with non-boolean data types\n",
    "\n",
    "Remember that other data types can also be [converted to boolean](lesson_01.ipynb#Type-conversions). If an expression in an `if-elif-else` statement is not a boolean, Python converts it to a boolean to determine the result.\n",
    "\n",
    "In lesson 1, you learned that only `0` is treated as `False`; all other numbers are treated as `True`.\n",
    "\n",
    "Run each of the following lines of code one by one and observe the result:\n",
    "\n",
    "1. `bool('')`  \n",
    "   (An empty string is treated as `False`. All other strings are treated as `True`.)\n",
    "2. `bool('0')`  \n",
    "   (The integer `0` is not the same as the string `'0'`.)\n",
    "3. `not 0`  \n",
    "   (The `not` logical operator always evaluates to a boolean. If given a non-boolean operand, it will convert it to a boolean using `bool()` before evaluating it.)\n",
    "4. `0 and 1`  \n",
    "   (The logical operators `and` and `or` return either operand depending on the result of evaluation. Try this line with the `or` keyword, and with other values.)\n",
    "5. `'0' and '1'`  \n",
    "   (Check your understanding of how strings are cast to booleans.)"
   ]
  },
  {
   "cell_type": "code",
   "execution_count": null,
   "metadata": {},
   "outputs": [],
   "source": [
    "#Write your code here\n",
    "\n",
    "bool('')"
   ]
  },
  {
   "cell_type": "markdown",
   "metadata": {},
   "source": [
    "## Good programming practices\n",
    "\n",
    "We can use these features to finally write more complete validation code, even checking if the user entered anything, and applying abstraction by bundling this code into a set of functions:"
   ]
  },
  {
   "cell_type": "code",
   "execution_count": null,
   "metadata": {},
   "outputs": [],
   "source": [
    "def validate(userinput):\n",
    "    \"\"\"Takes in user input as a str\n",
    "    Validates the input.\n",
    "    Returns an appropriate message representing the result of validation.\n",
    "    \"\"\"\n",
    "    if not userinput:\n",
    "        return \"Nothing was typed\"\n",
    "    elif not userinput.isdecimal():\n",
    "        return \"Type digits only\"\n",
    "    elif len(userinput) != 8:\n",
    "        return \"Phone number consists of 8 digits\"\n",
    "    elif not (\n",
    "            userinput.startswith(\"6\")\n",
    "            or userinput.startswith(\"8\")\n",
    "            or userinput.startswith(\"9\")\n",
    "    ):\n",
    "        return \"Phone number must begin with 6, 8, or 9\"\n",
    "    else:\n",
    "        return \"ok\"\n",
    "\n",
    "def prompt_valid_phone_number():\n",
    "    \"\"\"Prompt the user for a phone number.\n",
    "    Displays an error message if the phone number is invalid.\n",
    "    Otherwise returns the user input if phone number is valid.\n",
    "    \"\"\"\n",
    "    userinput = input('Type a phone number: ')\n",
    "\n",
    "    result = validate(userinput)\n",
    "    if result != \"ok\":\n",
    "        print(result)\n",
    "    else:\n",
    "        return userinput"
   ]
  },
  {
   "cell_type": "markdown",
   "metadata": {},
   "source": [
    "The above code demonstrates abstraction, separating the details of validation from those of prompting the user and checking the input. We can see that `prompt_valid_phone_number()` operates at a higher abstraction level than `validate()`, and know that errors in validation likely come from the latter rather than the former.\n",
    "\n",
    "It also demonstrates a couple of common programming patterns:\n",
    "\n",
    "### Multi-line code for readability\n",
    "\n",
    "On lines 12-16, we broke up the `elif` conditional expression into multiple lines, making it easier to read.\n",
    "\n",
    "Over decades, Python programmers have codified these readability rules into a document, called PEP8. You can read the recommendations for multi-line indentation at https://pep8.org/#indentation.\n",
    "\n",
    "Note that readability is not required for your code to run. However, programming is not only an act of instruction to the computer, it is also an act of communication with other programmers who may be interacting or using your code, or even reading it for learning and understanding. Taking care to write readable code demonstrates consideration and respect for the community of programmers, whom you also rely on when you use code they have written.\n",
    "\n",
    "### Algorithmic patterns\n",
    "\n",
    "Lines 6-19 could have been written as:\n",
    "```python\n",
    "if userinput:    \n",
    "    if userinput.isdecimal():\n",
    "        if len(userinput) == 8:\n",
    "            if (\n",
    "                    userinput.startswith(\"6\")\n",
    "                    or userinput.startswith(\"8\")\n",
    "                    or userinput.startswith(\"9\")\n",
    "            ):\n",
    "                return \"ok\"\n",
    "            else:\n",
    "                return \"Phone number must begin with 6, 8, or 9\"\n",
    "        else:\n",
    "            return \"Phone number consists of 8 digits\"        \n",
    "    else:\n",
    "        return \"Type digits only\"\n",
    "else:\n",
    "    return \"Nothing was typed\"\n",
    "```\n",
    "\n",
    "While this style of coding may have a certain aesthetic appeal, it is harder to read, and also trickier to debug: in the outer layers, trying to visually match up the returned message at the bottom with the respective condition at the top is error-prone.\n",
    "\n",
    "The pattern of writing flat `if-elif-else` statements demonstrates an **algorithmic pattern** which I term \"negative validation\". Algorithmic patterns are coding patterns that programmers, over a sufficiently long period of time, settled on as \"best practices\" or elegant ways to solve certain kinds of problems in a maintainable and easy-to-understand fashion.\n",
    "\n",
    "----------\n",
    "\n",
    "The only thing missing now is re-prompting the user to input a valid phone number if the validation fails. This involves *repeating* the code, a different computational feature called **iteration** which we will cover in the next two lessons."
   ]
  },
  {
   "cell_type": "markdown",
   "metadata": {},
   "source": [
    "# Summary\n",
    "\n",
    "Research shows that **active recall**, the mental effort of attempting to remember, helps strengthen neuron connections. For each of the questions below, try to recall what you learnt from this lesson before you click to reveal.\n",
    "\n",
    "<ol>\n",
    "\n",
    "<li><details>\n",
    "    <summary>How do we prompt the user for text input? (click to reveal)</summary>\n",
    "    <p>Using the `input()` function. This function takes in a string which is displayed to the user before prompting.</p>\n",
    "</details></li>\n",
    "    \n",
    "<li><details>\n",
    "    <summary>How do we call a method? (click to reveal)</summary>\n",
    "    <p>Using `object.method()` syntax. A method must be called from an object.</p>\n",
    "</details></li>\n",
    "    \n",
    "<li><details>\n",
    "    <summary>What is data validation? (click to reveal)</summary>\n",
    "    <p>Data validation is the checking of input data to ensure that it meets a set of requirements before use.</p>\n",
    "</details></li>\n",
    "\n",
    "<li><details>\n",
    "    <summary>What are the logical operators? (click to reveal)</summary>\n",
    "    <p>In order of precedence (highest to lowest):</p>\n",
    "    <ol>\n",
    "        <li>not</li>\n",
    "        <li>and</li>\n",
    "        <li>or</li>\n",
    "    </ol>\n",
    "</details></li>\n",
    "\n",
    "<li><details>\n",
    "    <summary>How does non-evaluative checking of logical operators work? (click to reveal)</summary>\n",
    "    <ul>\n",
    "        <li>`and`: If the first expression evaluates to `False` (or a value treated as `False`), the result is the first expression's value and the second expression is not evaluated</li>\n",
    "        <li>`or`: If the first expression evaluates to `True` (or a value treated as `True`), the result is the first expression's value and the second expression is not evaluated</li>\n",
    "    </ul>\n",
    "</details></li>\n",
    "\n",
    "<li><details>\n",
    "    <summary>Which integer and string values are treated as `False`? Which ones are treated as `True`? (click to reveal)</summary>\n",
    "    <p>`0` and `''` (empty string) are treated as `False`. All other values and strings are treated as `True`.</p>\n",
    "</details></li>\n",
    "    \n",
    "</ol>"
   ]
  }
 ],
 "metadata": {
  "kernelspec": {
   "display_name": "Python 3 (ipykernel)",
   "language": "python",
   "name": "python3"
  },
  "language_info": {
   "codemirror_mode": {
    "name": "ipython",
    "version": 3
   },
   "file_extension": ".py",
   "mimetype": "text/x-python",
   "name": "python",
   "nbconvert_exporter": "python",
   "pygments_lexer": "ipython3",
   "version": "3.7.7"
  }
 },
 "nbformat": 4,
 "nbformat_minor": 2
}
