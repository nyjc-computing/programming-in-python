{
 "cells": [
  {
   "cell_type": "markdown",
   "metadata": {},
   "source": [
    "## 1-minute introduction to Jupyter ##\n",
    "\n",
    "A Jupyter notebook consists of cells. Each cell contains either text or code.\n",
    "\n",
    "A text cell will not have any text to the left of the cell. A code cell has `In [ ]:` to the left of the cell.\n",
    "\n",
    "If the cell contains code, you can edit it. Press <kbd>Enter</kbd> to edit the selected cell. While editing the code, press <kbd>Enter</kbd> to create a new line, or <kbd>Shift</kbd>+<kbd>Enter</kbd> to run the code. If you are not editing the code, select a cell and press <kbd>Ctrl</kbd>+<kbd>Enter</kbd> to run the code."
   ]
  },
  {
   "cell_type": "markdown",
   "metadata": {},
   "source": [
    "# Lesson 8: Identity and mutability\n",
    "\n",
    "So far, we have been working with various data types while Python was keeping track of everything in the backend for us.\n",
    "\n",
    "For the most part, this works as we expect. But sometimes, it can cause some unexpected errors.\n",
    "\n",
    "This is a function that takes in a sentence and returns a list of word statistics:"
   ]
  },
  {
   "cell_type": "code",
   "execution_count": null,
   "metadata": {
    "scrolled": true
   },
   "outputs": [],
   "source": [
    "def word_stats(text: str) -> \"list[dict]\":\n",
    "    \"\"\"Takes in text as a string.\n",
    "    Returns a list of word records.\n",
    "    Each record is a dict with the following info about the word:\n",
    "    - word: the word itself\n",
    "    - length: number of letters in the word\n",
    "    - vowels: number of vowels in the word\n",
    "    \"\"\"\n",
    "    record = {\"length\": 0, \"vowels\": 0}  # A placeholder record\n",
    "    records = []\n",
    "    for word in text.split(\" \"):\n",
    "        record[\"word\"] = word\n",
    "        for char in word:\n",
    "            if char in \"aeiou\":\n",
    "                record[\"vowels\"] = record[\"vowels\"] + 1\n",
    "            record[\"length\"] = record[\"length\"] + 1\n",
    "        records.append(record)\n",
    "    return records\n",
    "        \n",
    "paragraph = \"Beneath the dense canopy of the ancient forest, the sunlight struggled to pierce through the thick foliage, casting dappled shadows on the moss-covered ground. The air was filled with the earthy scent of damp soil and the soft hum of hidden creatures. As a cool breeze rustled the leaves, a faint melody seemed to drift between the towering trees—a sound so delicate it could easily be mistaken for a trick of the mind. In this tranquil setting, time felt as if it had slowed, leaving the forest suspended in an eternal moment of peace and quiet mystery.\"\n",
    "word_records = word_stats(paragraph)\n",
    "for record in word_records:\n",
    "    print(record)"
   ]
  },
  {
   "cell_type": "markdown",
   "metadata": {},
   "source": [
    "That ... was certainly unexpected. What happened?"
   ]
  },
  {
   "cell_type": "markdown",
   "metadata": {},
   "source": [
    "## Value and Identity\n",
    "\n",
    "In Python, objects have a **value** and an **identity**. These concepts are easy to confuse, but we can illustrate with examples.\n",
    "\n",
    "Python keeps track of the objects it has created using a unique id. We can find out the id of an object using the built-in function `id()`:"
   ]
  },
  {
   "cell_type": "code",
   "execution_count": null,
   "metadata": {},
   "outputs": [],
   "source": [
    "a = 2\n",
    "b = 2\n",
    "print(\"id of a:\", id(a))\n",
    "print(\"id of b:\", id(b))"
   ]
  },
  {
   "cell_type": "markdown",
   "metadata": {},
   "source": [
    "Notice that even when we assign the same integer value to two different variables, Python is generally \"smart\" enough to notice and treat them as the same. This aligns with our instinct about numbers; `2` means the same thing everywhere.\n",
    "\n",
    "#### Exercise 1\n",
    "\n",
    "Test this property with other primitive types: `float`, `bool`, `None`. Is this always true?"
   ]
  },
  {
   "cell_type": "markdown",
   "metadata": {},
   "source": [
    "## Primitive vs complex values in Python\n",
    "\n",
    "In Python, primitive values generally have the same identity. But this is not the case for complex value types:"
   ]
  },
  {
   "cell_type": "code",
   "execution_count": null,
   "metadata": {},
   "outputs": [],
   "source": [
    "a = \"hello\"\n",
    "b = \"world\"\n",
    "c = a + b\n",
    "d = \"helloworld\"\n",
    "print(\"id of c:\", id(c))\n",
    "print(\"id of d:\", id(d))"
   ]
  },
  {
   "cell_type": "markdown",
   "metadata": {},
   "source": [
    "Notice that `c` and `d` both have a value of `'helloworld'`, but different identities; `c` and `d` are two different strings that happen to have the same sequence of characters. We use two different operators to distinguish these concepts:"
   ]
  },
  {
   "cell_type": "code",
   "execution_count": null,
   "metadata": {},
   "outputs": [],
   "source": [
    "if c == d:\n",
    "    print(\"c and d have the same value\")\n",
    "else:\n",
    "    print(\"c and d do not have the same value\")\n",
    "\n",
    "if c is d:\n",
    "    print(\"c and d are the same object\")\n",
    "else:\n",
    "    print(\"c and d are not the same object\")\n"
   ]
  },
  {
   "cell_type": "markdown",
   "metadata": {},
   "source": [
    "## Data structures in Python\n",
    "\n",
    "This concept also applies to lists and dicts. In particular:"
   ]
  },
  {
   "cell_type": "code",
   "execution_count": null,
   "metadata": {},
   "outputs": [],
   "source": [
    "e = {\"word\": \"hello\", \"length\": 5, \"vowels\": 2}\n",
    "f = {\"word\": \"hello\", \"length\": 5, \"vowels\": 2}\n",
    "\n",
    "if e == f:\n",
    "    print(\"e and f have the same value\")\n",
    "else:\n",
    "    print(\"e and f do not have the same value\")\n",
    "\n",
    "if e is f:\n",
    "    print(\"e and f are the same object\")\n",
    "else:\n",
    "    print(\"e and f are not the same object\")\n"
   ]
  },
  {
   "cell_type": "markdown",
   "metadata": {},
   "source": [
    "Dicts are equal in value if they have the same key-value pairs. They are identical if they are the same object. (Use `id()` to check the ids of the two dicts; they are not the same dict!)"
   ]
  },
  {
   "cell_type": "code",
   "execution_count": null,
   "metadata": {},
   "outputs": [],
   "source": [
    "g = [a, b, c, d, e, f]\n",
    "h = [a, b, c, d, e, f]\n",
    "\n",
    "if g == h:\n",
    "    print(\"g and h have the same value\")\n",
    "else:\n",
    "    print(\"g and h do not have the same value\")\n",
    "\n",
    "if g is h:\n",
    "    print(\"g and h are the same object\")\n",
    "else:\n",
    "    print(\"g and h are not the same object\")"
   ]
  },
  {
   "cell_type": "markdown",
   "metadata": {},
   "source": [
    "The same idea applies to lists."
   ]
  },
  {
   "cell_type": "markdown",
   "metadata": {},
   "source": [
    "## Debugging identity problems\n",
    "\n",
    "Back to our function; what went wrong with it?\n",
    "\n",
    "    {'length': 458, 'vowels': 167, 'word': 'mystery.'}\n",
    "    {'length': 458, 'vowels': 167, 'word': 'mystery.'}\n",
    "    {'length': 458, 'vowels': 167, 'word': 'mystery.'}\n",
    "    {'length': 458, 'vowels': 167, 'word': 'mystery.'}\n",
    "    ...\n",
    "    \n",
    "Notice that it became a list of identical records; curiously, this record only represents the last word. If we check the ids of the dicts in this list:"
   ]
  },
  {
   "cell_type": "code",
   "execution_count": null,
   "metadata": {
    "scrolled": true
   },
   "outputs": [],
   "source": [
    "for record in word_records:\n",
    "    print(id(record))"
   ]
  },
  {
   "cell_type": "markdown",
   "metadata": {},
   "source": [
    "Notice how they all have the same id? We have appended the same dict into our list multiple times!\n",
    "\n",
    "To avoid this, we have to be careful not to reuse records if we do not intend to refer to the same object:"
   ]
  },
  {
   "cell_type": "code",
   "execution_count": null,
   "metadata": {
    "scrolled": true
   },
   "outputs": [],
   "source": [
    "def word_stats(text: str) -> \"list[dict]\":\n",
    "    \"\"\"Takes in text as a string.\n",
    "    Returns a list of word records.\n",
    "    Each record is a dict with the following info about the word:\n",
    "    - word: the word itself\n",
    "    - length: number of letters in the word\n",
    "    - vowels: number of vowels in the word\n",
    "    \"\"\"\n",
    "    record = {\"length\": 0, \"vowels\": 0}  # A placeholder record\n",
    "    records = []\n",
    "    for word in text.split(\" \"):\n",
    "        record = {\"length\": 0, \"vowels\": 0}  # <-- start a new record for each word\n",
    "        record[\"word\"] = word\n",
    "        for char in word:\n",
    "            if char in \"aeiou\":\n",
    "                record[\"vowels\"] = record[\"vowels\"] + 1\n",
    "            record[\"length\"] = record[\"length\"] + 1\n",
    "        records.append(record)\n",
    "    return records\n",
    "        \n",
    "paragraph = \"Beneath the dense canopy of the ancient forest, the sunlight struggled to pierce through the thick foliage, casting dappled shadows on the moss-covered ground. The air was filled with the earthy scent of damp soil and the soft hum of hidden creatures. As a cool breeze rustled the leaves, a faint melody seemed to drift between the towering trees—a sound so delicate it could easily be mistaken for a trick of the mind. In this tranquil setting, time felt as if it had slowed, leaving the forest suspended in an eternal moment of peace and quiet mystery.\"\n",
    "word_records = word_stats(paragraph)\n",
    "for record in word_records:\n",
    "    print(record)"
   ]
  },
  {
   "cell_type": "markdown",
   "metadata": {},
   "source": [
    "Now we get the correct result. Our word list now contains different dicts instead of the same dict."
   ]
  },
  {
   "cell_type": "markdown",
   "metadata": {},
   "source": [
    "# Summary\n",
    "\n",
    "Research shows that **active recall**, the mental effort of attempting to remember, helps strengthen neuron connections. For each of the questions below, try to recall what you learnt from this lesson before you click to reveal.\n",
    "\n",
    "<ol>\n",
    "\n",
    "<li><details>\n",
    "    <summary>What is <code>==</code> used for? (click to reveal)</summary>\n",
    "    <p><code>==</code> is the equality operator. It checks if two objects have the same value.</p>\n",
    "</details></li>\n",
    "    \n",
    "<li><details>\n",
    "    <summary>What is <code>is</code> used for? (click to reveal)</summary>\n",
    "    <p><code>is</code> is the identity operator. It checks of two objects are identical (have the same id).</p>\n",
    "</details></li>\n"
   ]
  }
 ],
 "metadata": {
  "kernelspec": {
   "display_name": "Python 3 (ipykernel)",
   "language": "python",
   "name": "python3"
  },
  "language_info": {
   "codemirror_mode": {
    "name": "ipython",
    "version": 3
   },
   "file_extension": ".py",
   "mimetype": "text/x-python",
   "name": "python",
   "nbconvert_exporter": "python",
   "pygments_lexer": "ipython3",
   "version": "3.7.7"
  }
 },
 "nbformat": 4,
 "nbformat_minor": 2
}
