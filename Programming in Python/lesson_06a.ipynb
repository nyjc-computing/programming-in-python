{
 "cells": [
  {
   "cell_type": "markdown",
   "metadata": {},
   "source": [
    "## 1-minute introduction to Jupyter ##\n",
    "\n",
    "A Jupyter notebook consists of cells. Each cell contains either text or code.\n",
    "\n",
    "A text cell will not have any text to the left of the cell. A code cell has `In [ ]:` to the left of the cell.\n",
    "\n",
    "If the cell contains code, you can edit it. Press <kbd>Enter</kbd> to edit the selected cell. While editing the code, press <kbd>Enter</kbd> to create a new line, or <kbd>Shift</kbd>+<kbd>Enter</kbd> to run the code. If you are not editing the code, select a cell and press <kbd>Ctrl</kbd>+<kbd>Enter</kbd> to run the code."
   ]
  },
  {
   "cell_type": "markdown",
   "metadata": {},
   "source": [
    "# Lesson 6a: Data structures - list and tuple\n",
    "\n",
    "So far we have been dealing with variables that represent individual values: an `int`, `float`, `bool`, or `str`. This soon becomes unmanageable when we are working with larger amounts of data.\n",
    "\n",
    "For example, if we are working with student records, we know each student might have the following information to manage:\n",
    "\n",
    "- name: str\n",
    "- class: str\n",
    "- date_of_graduation: date\n",
    "- age: int\n",
    "- height: float\n",
    "- weight: float\n",
    "- is_sg_citizen: bool\n",
    "\n",
    "We will need a way to iterate through these item labels and their values. Furthermore, we need a way to group students e.g. by class.\n",
    "\n",
    "Most programming languages provide ways to group multiple pieces of data under a single object or variable. These ways of grouping data are called **data structures**."
   ]
  },
  {
   "cell_type": "markdown",
   "metadata": {},
   "source": [
    "## Python lists\n",
    "\n",
    "In Python, a list is a simple collection of objects.\n",
    "\n",
    "You can initialise a list from a collection of objects by enclosing them in `[`square brackets`]` and separating them with commas (`,`).\n",
    "\n",
    "Try the following lines of code one by one in the cell below:\n",
    "\n",
    "1. `numbers = [1, 2, 3, 4, 5]`  \n",
    "   (_A list of numbers. We generally name lists by the kind of data they contain, and in plural._)\n",
    "3. `fruits = ['apple', 'blueberry', 'carrot',]`  \n",
    "    (_A list can contain strings too. And it will ignore any trailing commas._)\n",
    "2. `items = [1, '2', 3.0, '4.0', 5]`  \n",
    "   (_In fact, a list can consist of a mixture of integers, floats, strings, and other objects._)\n",
    "4. `data = []`  \n",
    "   (_This is how you initialise an empty list._)\n",
    "5. `data = list()`  \n",
    "   (_Another way to initialise an empty list._)\n",
    "\n",
    "Remember that an assignment statement (using the assignment (`=`) operator) will not produce any output. You will have to invoke the variable again on a separate line."
   ]
  },
  {
   "cell_type": "code",
   "execution_count": null,
   "metadata": {},
   "outputs": [],
   "source": [
    "# Write your code here\n",
    "\n"
   ]
  },
  {
   "cell_type": "markdown",
   "metadata": {},
   "source": [
    "### List indexing\n",
    "\n",
    "List indexing works very similarly to string slicing, which we just covered in lesson 5. In fact, strings are implemented in Python internally as a special type of list.\n",
    "\n",
    "The elements of a list can be retrieved using their **index**.\n",
    "\n",
    "The first element of a list has index `0`. The subsequent elements have an index that is 1 greater than the previous element. List indexes always go in running order.\n",
    "\n",
    "`list[0]` returns the first element of the list. `list[1]` returns the next element, and so on."
   ]
  },
  {
   "cell_type": "markdown",
   "metadata": {},
   "source": [
    "### List slicing\n",
    "\n",
    "List slicing allow you to return multiple elements from a list, just as string slicing allows you to return substrings of characters from a string.\n",
    "\n",
    "Try the following lines of code one by one in the cell below:\n",
    "\n",
    "`yourlist = [\"Alice\", \"Bob\", \"Charlie\", \"Dawn\", \"Ernest\"]`\n",
    "1. `yourlist[0:0]`  \n",
    "   (_This should give you an empty list._)\n",
    "2. `yourlist[0:1]`  \n",
    "    (_How does this differ from `yourlist[0]`_?)\n",
    "3. `yourlist[0:4]`  \n",
    "    (_Why doesn't this return the whole list_?)\n",
    "4. `yourlist[0:6]`  \n",
    "    (_If the slice exceeds the largest index, you won't get an error but those indexes will be ignored._)\n",
    "5. `yourlist[0:5:2]`  \n",
    "   (_Can you figure out what the third number in the slice does_?)\n",
    "6. `yourlist[0:4:2]`  \n",
    "    (_Why is `yourlist[4]` not in the result_?)\n",
    "7. `yourlist[0::2]`  \n",
    "   (_What happens when you remove any of the numbers in the slice? Can you figure out what the default values are_?)\n",
    "8. `yourlist[::-1]`  \n",
    "   (_This is a common pattern to get the reverse of a list._)\n",
    "9. `yourlist[0:4:-1]`  \n",
    "   (_Why doesn't this work_?)\n",
    "10. `yourlist[4:0:-1]`  \n",
    "    (_Is this the same as expression 8_?)\n",
    "11. `type(yourlist[0:0])`  \n",
    "    (_A list indexed with a slice always returns a list, even if the result is only an empty list._)"
   ]
  },
  {
   "cell_type": "code",
   "execution_count": null,
   "metadata": {},
   "outputs": [],
   "source": [
    "yourlist = [\"Alice\", \"Bob\", \"Charlie\", \"Dawn\", \"Ernest\"]  #Do not remove this line.\n",
    "\n",
    "# Type your code below this line.\n",
    "\n"
   ]
  },
  {
   "cell_type": "markdown",
   "metadata": {},
   "source": [
    "While list slicing can be very powerful, it can also be confusing to read and difficult to track correctly. You are recommended to use more readable programming features as far as possible."
   ]
  },
  {
   "cell_type": "markdown",
   "metadata": {},
   "source": [
    "### List-mutating methods ##\n",
    "\n",
    "A list has built-in methods that allow you to add or remove elements from it; such operations that change the contents of a data structure are called **mutation operations**. Recall that methods use the `object.method()` syntax and must be called from an object; `method()` will not work.\n",
    "\n",
    "Try the expressions in the cell below, one by one:  \n",
    "(Remember that the assignment (`=`) operator does not produce any output.)\n",
    "\n",
    "`countries = [\"America\", \"Brazil\", \"Cambodia\", \"Dominican Republic\", \"Ethiopia\", \"France\", \"Germany\", \"Hungary\"]`  \n",
    "\n",
    "1. `countries.append(\"India\")`  \n",
    "   (_Adds a single item at the end of the list.)\n",
    "2. `countries.append([\"India\", \"Japan\"])`  \n",
    "   (_Did this produce the effect you expected_?)\n",
    "3. `countries.insert(4, \"England\")`  \n",
    "   (_The `.insert(n, item)` method lets you insert `item` at the `n`th index._)\n",
    "4. `del countries[0]`  \n",
    "    (_To delete an element from a list, use the `del` keyword on the list element specified by index._)\n",
    "5. `del countries[0:3]`  \n",
    "    (_You can use the `del` keyword to delete multiple elements by list slicing._)"
   ]
  },
  {
   "cell_type": "code",
   "execution_count": null,
   "metadata": {},
   "outputs": [],
   "source": [
    "#Do not remove this line.\n",
    "countries = [\"America\", \"Brazil\", \"Cambodia\", \"Dominican Republic\", \"Ethiopia\", \"France\", \"Germany\", \"Hungary\"]\n",
    "\n",
    "# Type your code below this line.\n",
    "countries.extend(\"India\")\n",
    "countries"
   ]
  },
  {
   "cell_type": "markdown",
   "metadata": {},
   "source": [
    "**Explore:**\n",
    "\n",
    "1. Do these methods work for strings?\n",
    "2. Which of these methods return a value? Which ones do not return a value (i.e. return `None`)?"
   ]
  },
  {
   "cell_type": "markdown",
   "metadata": {},
   "source": [
    "### List operators\n",
    "\n",
    "You previously explored the use of the concatenation operator `+` and repetition operator `*` with strings (in lesson 1). These operators work with lists too.\n",
    "\n",
    "Try the following expressions in the cell below:\n",
    "(Notice that the list methods above modify the original list. the operators below do not; they give the modified list as a return value.)\n",
    "\n",
    "`countries = [\"America\", \"Brazil\", \"Cambodia\", \"Dominican Republic\", \"Ethiopia\", \"France\", \"Germany\", \"Hungary\"]`\n",
    "1. `countries + \"Ireland\"`  \n",
    "   (_Doesn't work. The error provides a clue: lists can only be \"added\" to other lists, not to strings._)\n",
    "2. `countries + [\"Ireland\"]`  \n",
    "   (_This works. You have to convert the string into a list element by putting it in a list first. This is called **list concatenation**. A **new list is returned** containing the result, without mutating the original `countries`._)\n",
    "3. `countries + [\"Ireland\", \"Japan\", \"Kenya\"]`  \n",
    "   (_You can add lists with multiple elements together this way._)\n",
    "4. `countries[0] = \"Australia\"`  \n",
    "   (_To reassign a list element to a different value, address the element using its index._)\n",
    "5. `countries[0] = Australia`  \n",
    "   (_Remember that strings need the quote marks `''` or `\"\"` otherwise they get interpreted as variables._)\n",
    "6. `countries * 3`  \n",
    "   (_`*` operator with an integer works on lists too._)"
   ]
  },
  {
   "cell_type": "code",
   "execution_count": null,
   "metadata": {},
   "outputs": [],
   "source": [
    "countries = [\"America\", \"Brazil\", \"Cambodia\", \"Dominican Republic\", \"Ethiopia\", \"France\", \"Germany\", \"Hungary\"]\n",
    "\n",
    "# Type your code below this line.\n"
   ]
  },
  {
   "cell_type": "markdown",
   "metadata": {},
   "source": [
    "### Useful functions for lists\n",
    "\n",
    "We often need to know various properties of the list. Python has built-in functions to give us this information. You have already learnt the `type()` function, which tells us what type of object it is. \n",
    "\n",
    "Try the expressions in the cell below:\n",
    "\n",
    "`numbers = [8, 7, 6, 5, 4, 3, 3, 2, 1]`\n",
    "\n",
    "1. `len(numbers)`  \n",
    "   (_`len()` tells you how many elements a list has._)\n",
    "2. `sum(numbers)`  \n",
    "   (_`sum()` returns the sum of all elements. Works on integers and floats only._)\n",
    "3. `min(numbers)`  \n",
    "   (_`min()` returns the smallest element. Works on strings._)\n",
    "4. `max(numbers)`  \n",
    "   (_`max()` returns the largest element. Works on strings._)"
   ]
  },
  {
   "cell_type": "code",
   "execution_count": null,
   "metadata": {},
   "outputs": [],
   "source": [
    "#Do not remove this line.\n",
    "numbers = [8, 7, 6, 5, 4, 3, 3, 2, 1]\n",
    "\n",
    "# Type your code below this line.\n"
   ]
  },
  {
   "cell_type": "markdown",
   "metadata": {},
   "source": [
    "### Converting other types to lists\n",
    "\n",
    "Just as we can convert variables to other types using `int()`, `float()`, `bool()`, and `str()`, we can also convert sequences to a list using `list().\n",
    "\n",
    "Try the following code line and observe the result:\n",
    "\n",
    "1. `list('apple')`  \n",
    "   (_Strings are sequences of characters and can be converted to a list._)\n",
    "2. `list(1)`  \n",
    "   (_Integers are not a collection and cannot be converted to a list._) "
   ]
  },
  {
   "cell_type": "code",
   "execution_count": null,
   "metadata": {},
   "outputs": [],
   "source": [
    "# Type your code below this line\n",
    "\n"
   ]
  },
  {
   "cell_type": "markdown",
   "metadata": {},
   "source": [
    "## Iterating over lists\n",
    "\n",
    "Iteration over lists works the same way as strings: we can use `while` loops and `for` loops."
   ]
  },
  {
   "cell_type": "code",
   "execution_count": null,
   "metadata": {},
   "outputs": [],
   "source": [
    "ordinals = ['first', 'second', 'third', 'fourth', 'fifth']\n",
    "\n",
    "# Conditional iteration\n",
    "i = 0\n",
    "while i < len(ordinals):\n",
    "    print(f'Ordinal: {ordinal}')\n",
    "    i = i + 1\n",
    "\n",
    "# Indexed iteration\n",
    "for i in range(len(ordinals)):\n",
    "    ordinal = ordinals[i]\n",
    "    print(f'Ordinal: {ordinal}')\n",
    "    \n",
    "# Direct iteration\n",
    "for ordinal in ordinals:\n",
    "    print(f'Ordinal: {ordinal}')"
   ]
  },
  {
   "cell_type": "markdown",
   "metadata": {},
   "source": [
    "### Exercise 1: Membership check\n",
    "\n",
    "A common requirement is to check if an item is inside a sequence (`str`, `list`, etc).\n",
    "\n",
    "Write a Python function, `has(sequence, target)` that takes in a sequence of items, and a `target`, and returns a `bool` representing whether `target` is found in `sequence`.\n",
    "\n",
    "**Example**\n",
    "\n",
    "- `has([1, 2, 3, 4, 5], 4)` should return `True`\n",
    "- `has([1, 2, 3, 4, 5], 6)` should return `False`\n",
    "\n",
    "Also write a docstring for this function—you will need the practice! When using variables, give them appropriate names for readability: clear code reflects clear thinking.\n",
    "\n",
    "**Testing:** Call your function with the above two examples to verify that they work correctly. The output should be clearly shown below the cell.\n",
    "\n",
    "<details>\n",
    "    <summary><b>Hint</b> (click to open)</summary>\n",
    "    <p>Iterate over the items in the sequence. For each item, check if it matches the given argument. If a match is found, the result is `True`. If you have finished iterating over all items and did not find a match, the result is `False`.</p>\n",
    "</details>"
   ]
  },
  {
   "cell_type": "code",
   "execution_count": null,
   "metadata": {},
   "outputs": [],
   "source": [
    "def has(sequence: list, target: str) -> bool:\n",
    "    \"\"\"Write an appropriate docstring\"\"\"\n",
    "    # Write your code here\n",
    "    \n"
   ]
  },
  {
   "cell_type": "markdown",
   "metadata": {},
   "source": [
    "The algorithm you just implemented above is called a **linear search**.\n",
    "\n",
    "### Membership operator: `in`\n",
    "\n",
    "In Python, you can check for membership in a sequence using the membership operator `in`. For example:"
   ]
  },
  {
   "cell_type": "code",
   "execution_count": null,
   "metadata": {},
   "outputs": [],
   "source": [
    "# Run the code cell below\n",
    "print('a' in 'abcde')\n",
    "print('fifth' in ['first', 'second', 'third', 'fourth', 'fifth'])"
   ]
  },
  {
   "cell_type": "markdown",
   "metadata": {},
   "source": [
    "### Exercise 2: Filtering lists with `for` loop\n",
    "\n",
    "Write a Python function, `only_even(numbers)` that takes in a sequence of numbers, and returns a `list` containing only those numbers in `numbers` that are even. **Do not mutate the original list.**\n",
    "\n",
    "**Example**\n",
    "\n",
    "- `only_even([1, 2, 3, 4, 5])` should return `[2, 4]`\n",
    "- `only_even([1, 3, 5])` should return `[]` (empty list)\n",
    "\n",
    "Also write a docstring for this function—you will need the practice! When using variables, give them appropriate names for readability: clear code reflects clear thinking.\n",
    "\n",
    "**Testing:** Call your function with the above two examples to verify that they work correctly. The output should be clearly shown below the cell.\n",
    "\n",
    "<details>\n",
    "    <summary><b>Hint</b> (click to open)</summary>\n",
    "    <p>You will need to create a new list to hold the contents to be returned. Iterate over the numbers in the sequence. For each number, check if it is even. If yes, append it into the new list.</p>\n",
    "</details>"
   ]
  },
  {
   "cell_type": "code",
   "execution_count": null,
   "metadata": {},
   "outputs": [],
   "source": [
    "def only_even(sequence: list[int]) -> list[int]:\n",
    "    \"\"\"Write an appropriate docstring\"\"\"\n",
    "    # Write your code here\n",
    "    \n"
   ]
  },
  {
   "cell_type": "markdown",
   "metadata": {},
   "source": [
    "### Iterating over two sequences with `for` loop\n",
    "\n",
    "Suppose I have two lists:\n",
    "\n",
    "```python\n",
    "positions = ['first', 'second', 'third', 'fourth', 'fifth']\n",
    "fruits = ['apple', 'banana', 'cherry', 'durian', 'elderberry']\n",
    "```\n",
    "\n",
    "How would I generate the following output?\n",
    "\n",
    "  ```\n",
    "  The first value is apple.\n",
    "  The second value is banana.\n",
    "  The third value is cherry.\n",
    "  The fourth value is durian.\n",
    "  ...\n",
    "  ```\n",
    "\n",
    "Can I do that with a `for` loop? Absolutely. But it is not possible for us to iterate over two different lists in one loop. Instead, we need to recognise that in the first iteration, we want the first elements from each list, and for the second iteration we need the second elements, and so on.\n",
    "\n",
    "We need to have a way to generate indexes for each iteration. Python makes it easy to do that with the `range()` function.\n",
    "\n",
    "Run the code cell below and observe the output:"
   ]
  },
  {
   "cell_type": "code",
   "execution_count": null,
   "metadata": {},
   "outputs": [],
   "source": [
    "positions = ['first', 'second', 'third', 'fourth', 'fifth']\n",
    "fruits = ['apple', 'banana', 'cherry', 'durian', 'elderberry']\n",
    "\n",
    "for i in range(len(fruits)):\n",
    "    ith = positions(i)\n",
    "    name = fruits(i)\n",
    "    print(f'The {i} value is {name}.')"
   ]
  },
  {
   "cell_type": "markdown",
   "metadata": {},
   "source": [
    "### Exercise 3: Predict the output\n",
    "\n",
    "What will the output look like with the following code?\n",
    "\n",
    "  ```python\n",
    "  for i in range(1, len(positions), 2)\n",
    "      ith = positions[i]\n",
    "      name = fruits[i]\n",
    "      print(f'The {ith} value is {name}.')\n",
    "  ```"
   ]
  },
  {
   "cell_type": "markdown",
   "metadata": {},
   "source": [
    "What will the output look like with the following code? Why?\n",
    "\n",
    "  ```python\n",
    "  for i in [0, 1, 2, 3, 4, 5]:\n",
    "      ith = positions[i]\n",
    "      name = fruits[i]\n",
    "      print(f'The {ith} value is {name}.')\n",
    "  ```"
   ]
  },
  {
   "cell_type": "markdown",
   "metadata": {},
   "source": [
    "What error will you get with the following code? Why?\n",
    "\n",
    "  ```python\n",
    "  for i in [0, 1, 2, 3, 4, 5]:\n",
    "      ith = positions\n",
    "      name = fruits\n",
    "      print(f'The {ith} value is {name}.')\n",
    "  ```"
   ]
  },
  {
   "cell_type": "markdown",
   "metadata": {},
   "source": [
    "What will the output look like with the following code? Why?\n",
    "\n",
    "  ```python\n",
    "  for i in range(len(fruits)):\n",
    "      ith = positions(i)\n",
    "      name = fruits(i)\n",
    "      print(f'The {i} value is {name}.')\n",
    "  ```"
   ]
  },
  {
   "cell_type": "markdown",
   "metadata": {},
   "source": [
    "What will the output look like with the following code? Why?\n",
    "\n",
    "  ```python\n",
    "  for i in range(0, len(positions)):\n",
    "      print(f'The {positions[i]} value is {fruits[i]}.')\n",
    "  ```"
   ]
  },
  {
   "cell_type": "markdown",
   "metadata": {},
   "source": [
    "## Mutability\n",
    "\n",
    "Notice that we can modify items in lists directly:\n",
    "\n",
    "```python\n",
    "fruits = ['apple', 'banana', 'cherry', 'durian', 'elderberry']\n",
    "del fruits[0]  ## Deletes the first item in the fruits list\n",
    "```\n",
    "\n",
    "But we cannot do the same for strings:\n",
    "\n",
    "```python\n",
    "fruit = 'elderberry'\n",
    "del fruit[0]  ## This will raise a TypeError\n",
    "```\n",
    "\n",
    "We say that lists are **mutable**, while strings are **immutable**. That means the elements of a string cannot be changed, while the elements of a list can be changed."
   ]
  },
  {
   "cell_type": "code",
   "execution_count": null,
   "metadata": {},
   "outputs": [],
   "source": [
    "# Test your code here\n"
   ]
  },
  {
   "cell_type": "markdown",
   "metadata": {},
   "source": [
    "## Tuples: immutable lists\n",
    "\n",
    "[Tuples](https://en.wikipedia.org/wiki/Tuple) are the \"immutable version\" of lists.\n",
    "\n",
    "### Creating a tuple\n",
    "\n",
    "Creating an empty tuple: `tuple()`\n",
    "Creating a tuple of 1 item: `(item,)`. The comma is necessary because `(item)` is interpreted by Python as a bracketed expression; `(item)` is equivalent to `item`.  \n",
    "Creating a tuple of multiple items: `(item1, item2, item3)`  \n",
    "Converting a list of items to a tuple: `tuple(list_of_items)`\n",
    "\n",
    "### Similarities with list\n",
    "\n",
    "Tuples also support indexing and slicing; slicing a tuple produces another tuple.\n",
    "\n",
    "### Dissimilarities\n",
    "\n",
    "List mutation methods don't work on tuples, because tuples are immutable.\n",
    "\n",
    "----------\n",
    "\n",
    "**Your turn**\n",
    "\n",
    "What happens when you try to mutate a tuple? Try it and see.\n",
    "\n",
    "----------\n",
    "\n",
    "### Why do we need to know tuples?\n",
    "\n",
    "You likely will not use to use them in the course of the H2 Computing syllabus. However, you are likely to have to use Python again in university, especially if you take on a course requiring data analysis. Tuples are a common data type in Python, returned by many functions. Knowing what they are, how they differ from lists, and how to work with them will make programming in Python much less stressful."
   ]
  },
  {
   "cell_type": "markdown",
   "metadata": {},
   "source": [
    "## Python Self-Help: the `dir()` function\n",
    "\n",
    "The `dir()` function lets you examine a Python object and find out what methods and attributes it has. Attributes will be covered in the lesson on Object-Oriented Programming.\n",
    "\n",
    "Run the code cell below for an example of how to use the `dir()` function."
   ]
  },
  {
   "cell_type": "code",
   "execution_count": null,
   "metadata": {},
   "outputs": [],
   "source": [
    "string = 'a string'\n",
    "dir(string)"
   ]
  },
  {
   "cell_type": "markdown",
   "metadata": {},
   "source": [
    "You will see that strings have many methods associated with them.\n",
    "\n",
    "Try this on a list or tuple. What methods do lists have? What methods do tuples have?"
   ]
  },
  {
   "cell_type": "markdown",
   "metadata": {},
   "source": [
    "## Special methods: dunder methods\n",
    "\n",
    "You'll notice some methods that begin and end with **d**ouble-**under**scores (`__`). These are special methods in Python, called **dunder methods**.\n",
    "\n",
    "Dunder methods enable you to change the way some Python features work, for example changing what operators do. They are powerful and easy to misuse, but fortunately are not part of the syllabus, and we will skip them in our practical lessons (except for one, which will be required for Object-Oriented Programming)."
   ]
  },
  {
   "cell_type": "markdown",
   "metadata": {},
   "source": [
    "# Summary\n",
    "\n",
    "Research shows that **active recall**, the mental effort of attempting to remember, helps strengthen neuron connections. For each of the questions below, try to recall what you learnt from this lesson before you click to reveal.\n",
    "\n",
    "<ol>\n",
    "\n",
    "<li><details>\n",
    "    <summary>What does it mean if an item is immutable? (click to reveal)</summary>\n",
    "    <p>We cannot change the contents of an immutable item.</p>\n",
    "</details></li>\n",
    "    \n",
    "<li><details>\n",
    "    <summary>How do we use the membership operator? (click to reveal)</summary>\n",
    "    <code>item in items</code>\n",
    "    <p>This expression evaluates to a <code>bool</code>.</p>\n",
    "</details></li>\n",
    "    \n",
    "</ol>"
   ]
  }
 ],
 "metadata": {
  "kernelspec": {
   "display_name": "Python 3 (ipykernel)",
   "language": "python",
   "name": "python3"
  },
  "language_info": {
   "codemirror_mode": {
    "name": "ipython",
    "version": 3
   },
   "file_extension": ".py",
   "mimetype": "text/x-python",
   "name": "python",
   "nbconvert_exporter": "python",
   "pygments_lexer": "ipython3",
   "version": "3.7.7"
  }
 },
 "nbformat": 4,
 "nbformat_minor": 2
}
