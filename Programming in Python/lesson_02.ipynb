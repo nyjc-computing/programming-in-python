{
 "cells": [
  {
   "cell_type": "markdown",
   "metadata": {},
   "source": [
    "## 1-minute introduction to Jupyter ##\n",
    "\n",
    "A Jupyter notebook consists of cells. Each cell contains either text or code.\n",
    "\n",
    "A text cell will not have any text to the left of the cell. A code cell has `In [ ]:` to the left of the cell.\n",
    "\n",
    "If the cell contains code, you can edit it. Press <kbd>Enter</kbd> to edit the selected cell. While editing the code, press <kbd>Enter</kbd> to create a new line, or <kbd>Shift</kbd>+<kbd>Enter</kbd> to run the code. If you are not editing the code, select a cell and press <kbd>Ctrl</kbd>+<kbd>Enter</kbd> to run the code."
   ]
  },
  {
   "cell_type": "markdown",
   "metadata": {},
   "source": [
    "# Lesson 2: Abstraction\n",
    "\n",
    "The art of organsing code is the art of **abstraction**.\n",
    "\n",
    "> **abstraction (n.)**  \n",
    "> c. 1400, \"a withdrawal from worldly affairs, asceticism,\" from Old French _abstraction_ (14c.), from Late Latin _abstractionem_ (nominative abstractio), noun of action from past-participle stem of Latin _abstrahere_ \"to drag away, detach, pull away, divert;\" also figuratively, from assimilated form of _ab_ \"off, away from\" + _trahere_ \"to draw\" (from PIE root *_tragh-_ \"to draw, drag, move;\"). Meaning \"idea of something that has no actual existence\" is from 1640s.  \n",
    "> Source: [Etymonline: abstraction](https://www.etymonline.com/word/abstraction#etymonline_v_39979)\n",
    "\n",
    "To **abstract** something is to pull ourselves away from the concrete details of how it is done, and look at the pattern or broad characteristics of it.\n",
    "\n",
    "The primary way of applying abstraction in Python is using functions. Functions take in one or more values, and return a result.\n",
    "\n",
    "In previous lessons, you saw how to use the `type()` and `print()` functions. Investigate the following functions:"
   ]
  },
  {
   "cell_type": "markdown",
   "metadata": {},
   "source": [
    "### Python function: `abs()`\n",
    "\n",
    "Investigate the function `abs()`, which takes in one numerical variable and returns one value. Test the function with `int` and `float` values."
   ]
  },
  {
   "cell_type": "code",
   "execution_count": null,
   "metadata": {},
   "outputs": [],
   "source": [
    "#Type code here to test the function:\n",
    "\n"
   ]
  },
  {
   "cell_type": "markdown",
   "metadata": {},
   "source": [
    "What does the function `abs()` do:\n",
    "\n",
    "1. When given an `int` value?\n",
    "2. When given a `float` value?"
   ]
  },
  {
   "cell_type": "markdown",
   "metadata": {},
   "source": [
    "### Python function: `len()`\n",
    "\n",
    "Investigate the function `len()`, which takes in one variable and returns one value."
   ]
  },
  {
   "cell_type": "code",
   "execution_count": null,
   "metadata": {},
   "outputs": [],
   "source": [
    "#Type code here to test the function:\n",
    "\n"
   ]
  },
  {
   "cell_type": "markdown",
   "metadata": {},
   "source": [
    "Does the function `len()` work when given:\n",
    "\n",
    "1. `int` values?\n",
    "2. `float` values?\n",
    "3. `str` values?"
   ]
  },
  {
   "cell_type": "markdown",
   "metadata": {},
   "source": [
    "## Expressions and Statements\n",
    "\n",
    "In lesson 1, we worked primarily with expressions, which are code sequences which evaluate to a value.\n",
    "\n",
    "### Expression evaluation\n",
    "\n",
    "When you determine the result of a mathematical expression, you follow a certain order of operations, usually called BODMAS (meaning \"Brackets, Of, Division, Multiplication, Addition, Subtraction\").\n",
    "\n",
    "Similarly, when an expression is evaluated, the operators are evaluated in order of precedence:\n",
    "\n",
    "- function calls\n",
    "- power (`**`)\n",
    "- multiplication (`*`), division (`/` & `//`), modulus (`%`)\n",
    "- addition (`+`), subtraction (`-`)\n",
    "- logical `not`\n",
    "- logical `and`\n",
    "- logical `or`\n",
    "\n",
    "The full operator precedence can be found in the official Python documentation, https://docs.python.org/3/reference/expressions.html#operator-precedence.\n",
    "\n",
    "### Statements\n",
    "\n",
    "To work with these values—store them, display them, or manipulate them—we need **statements**.\n",
    "\n",
    "A python statement is a single line of code that executes a result. A statement typically begins with a [function call](lesson_02.ipynb#Function-call-statements), a [variable assignment](lesson_02.ipynb#Assignment-statements-and-variables), or a keyword."
   ]
  },
  {
   "cell_type": "markdown",
   "metadata": {},
   "source": [
    "### Function call statements\n",
    "\n",
    "Some functions are called on their own. For example, `print()` is called on its own to print a single line of text."
   ]
  },
  {
   "cell_type": "code",
   "execution_count": null,
   "metadata": {
    "scrolled": true
   },
   "outputs": [],
   "source": [
    "# Run this code cell\n",
    "\n",
    "print(\"One line of text\")\n",
    "print(\"Another line of text\")\n",
    "print(\"The last line of text\")"
   ]
  },
  {
   "cell_type": "markdown",
   "metadata": {},
   "source": [
    "### Assignment statements and variables\n",
    "\n",
    "We can store the result of expressions using **variables**. A variable has a name and a value. The syntax for an assignment statement, which assigns a value to a name, is as follows:\n",
    "\n",
    "```python\n",
    "<name> = <value>\n",
    "```\n",
    "\n",
    "This can be confusing for newcomers: it looks like a mathematical equality, but has a very different meaning. `<name> = <value>` means \"assign `<value>` to `<name>`\".\n",
    "\n",
    "To retrieve the value of a variable, we use the variable name wherever we want its value to be substituted.\n",
    "\n",
    "For example:"
   ]
  },
  {
   "cell_type": "code",
   "execution_count": null,
   "metadata": {},
   "outputs": [],
   "source": [
    "# Run this code cell\n",
    "\n",
    "# length of rectangle\n",
    "l = 5  # assign 5 to variable l\n",
    "# width of rectangle\n",
    "w = 4  # assign 4 to variable w\n",
    "# area of rectangle\n",
    "area = l * w  # assign calculated area to variable area\n",
    "\n",
    "print(\"The area of a rectangle with length\", l, \"and width\", w, \"is\", area)"
   ]
  },
  {
   "cell_type": "markdown",
   "metadata": {},
   "source": [
    "### Variable naming\n",
    "\n",
    "In Python, variable names must follow these rules:\n",
    "\n",
    "1. Begin with a lowercase letter or underscore (`_`)\n",
    "2. Consist of letters, numbers, and underscore (`_`) only\n",
    "3. Cannot be a Python keyword\n",
    "\n",
    "A complete list of Python keywords can be found at https://docs.python.org/3/reference/lexical_analysis.html#keywords. You do not need to memorise this list; regular practice will help you to remember the most common Python keywords and their uses.\n",
    "\n",
    "Run the following statements one by one in the cell below:\n",
    "\n",
    "1. `var = 1`  \n",
    "   (_The value `1` is assigned to the variable `var`_)\n",
    "2. `Var = 1`  \n",
    "   (_The value `1` is assigned to the variable `Var`. Names beginning with uppercase have a different meaning as understood by programmers: such names are reserved for **classes**, which will be covered in a later topic. For now, do not use variable names beginning with uppercase._)\n",
    "3. `class = \"2304\"`  \n",
    "    (\"**SyntaxError:** invalid syntax\" _is raised because `class` is a Python keyword and cannot be used as a variable name._)\n",
    "4. `class_ = \"2304\"`  \n",
    "    (_If you must use a variable name that is also a keyword, put an underscore **after** it to avoid clashing with the keyword._)\n",
    "5. `_class = \"2304\"`\n",
    "    (_Names beginning with underscore have a different meaning as understood by programmers: such names are treated as **private variables**, which will be covered in a later topic._)\n",
    "6. `_ = True`  \n",
    "    (_Names consisting of only an underscore are understood by programmers to be unused variables. They are unnecessary for now, but will appear in later chapters when needed._)\n",
    "7. `PI = 3.14159`  \n",
    "    (_Names consisting of all uppercase letters or underscore have a different meaning as understood by programmers: these variables are treated as **constants**, which are variables whose value **cannot be changed** after they are initially assigned. They are typically used as placeholders for special values._)"
   ]
  },
  {
   "cell_type": "code",
   "execution_count": null,
   "metadata": {},
   "outputs": [],
   "source": [
    "# Try your code in this cell\n",
    "\n"
   ]
  },
  {
   "cell_type": "markdown",
   "metadata": {},
   "source": [
    "#### Exercise 1: Use a constant\n",
    "\n",
    "Use the constant `PI` below to calcuate the circumference of a circle with radius 1.3."
   ]
  },
  {
   "cell_type": "code",
   "execution_count": null,
   "metadata": {},
   "outputs": [],
   "source": [
    "# Try your code in this cell\n",
    "\n",
    "PI = 3.14159 #Do not remove this line. Type your code below this line.\n",
    "\n",
    "# Complete the code below using the constant PI and\n",
    "# the variable r, and any appropriate operators\n",
    "r = 1.3\n",
    "circumference = # Replace this comment with a valid expression to determine the circumference\n",
    "\n",
    "\n",
    "print(\"The circumference of a circle with radius\", r, \"is\", circumference)"
   ]
  },
  {
   "cell_type": "markdown",
   "metadata": {},
   "source": [
    "### Function definition statements\n",
    "\n",
    "Everywhere we need the circumference of a circle, we would have to repeat the same code. For more complex operations, this would not only be annoying, it may also lead to bugs: if we had to update the code, we would have to ensure we update every copy of it, otherwise we get inconsistent results from each code sequence.\n",
    "\n",
    "To avoid this problem, we can define **functions**. Functions are packaged sequences of statements that take optional input, and return an optional result.\n",
    "\n",
    "A function is *defined* using the `def` keyword, following the syntax:\n",
    "\n",
    "```\n",
    "def <function name>(<parameter 1>, <parameter 2>, <...>):\n",
    "    <statement 1>\n",
    "    <statement 2>\n",
    "    ...\n",
    "```\n",
    "\n",
    "Note that code inside the function must be **indented**. In Python, an indent consists of 4 spaces. In jupyter notebook and other code editors, you can type an indent by pressing <kbd>Tab</kbd>, or indent multiple lines by selecting them and then pressing <kbd>Tab</kbd>. To unindent, use <kbd>Shift+Tab</kbd>.\n",
    "\n",
    "For example:\n",
    "\n",
    "```python\n",
    "def circle_area(r):\n",
    "    a = PI * r * r\n",
    "    return a\n",
    "```\n",
    "\n",
    "The above code defines a function called `circle_area()`, which takes in a parameter called `r`. Inside the function, the parameter `r` is available as a variable. The return statement, which begins with the `return` keyword and follows the syntax `return <expression>`, stops the function and returns the result of the expression.\n",
    "\n",
    "Defining a function does not run the code inside it. To *invoke* the code, we have to use a function call:\n",
    "\n",
    "```python\n",
    "radius = 5\n",
    "print(\"The area of a circle with radius\", radius, \"is\", circle_area(radius))\n",
    "```"
   ]
  },
  {
   "cell_type": "code",
   "execution_count": null,
   "metadata": {},
   "outputs": [],
   "source": [
    "# Run this code cell\n",
    "\n",
    "PI = 3.14159\n",
    "\n",
    "def circle_area(r):\n",
    "    a = PI * r * r\n",
    "    return a\n",
    "\n",
    "radius = 5\n",
    "print(\"The area of a circle with radius\", radius, \"is\", circle_area(radius))"
   ]
  },
  {
   "cell_type": "markdown",
   "metadata": {},
   "source": [
    "#### Parameters vs arguments\n",
    "\n",
    "Notice that [line 5] `circle_area(r)` and [line 10] `circle_area(radius)` look similar, but do different things. On line 5, we *define* a function `circle_area()` with a **parameter** `r`; the parameter can be used within the function's code. On line 10 we *invoke* the function by *calling* it using `circle_area(radius)`, passing in the **argument** `radius`.\n",
    "\n",
    "**Parameters** are *variables* defined by a function.  \n",
    "**Arguments** are *values* passed when calling a function."
   ]
  },
  {
   "cell_type": "markdown",
   "metadata": {},
   "source": [
    "## Variable scoping\n",
    "\n",
    "Code inside a function doesn't quite behave the same way as code outside a function. For example:"
   ]
  },
  {
   "cell_type": "code",
   "execution_count": null,
   "metadata": {},
   "outputs": [],
   "source": [
    "value = 10\n",
    "\n",
    "def change_value(v):\n",
    "    value = v\n",
    "    print(\"Value is\", value)\n",
    "\n",
    "change_value(5)\n",
    "print(\"Result is\", value)"
   ]
  },
  {
   "cell_type": "markdown",
   "metadata": {},
   "source": [
    "Why is the result `10` and not `5`? Because the code inside the function is in a different **scope** from the code outside the function.\n",
    "\n",
    "#### Global scope\n",
    "\n",
    "Variables assigned in the main program are in the **global** scope. Code in the global scope can access or change these global variables.\n",
    "\n",
    "#### Local / Function scope\n",
    "\n",
    "Variables assigned inside a function are in the **local** scope. Code in local scope can access global variables, but cannot reassign them. On [line 4] `value = v`, when we attempted to assign the value of `v` to the name `value`, we did not change the value of the global value; instead, we created a new local variable.\n",
    "\n",
    "When a function finishes execution (by reaching a return statement or reaching the end of its code), its scope is removed, and control of the code returns to the point where the function was called. That means all local variables are cleared; it also implies that code in the global scope cannot access variables in local scope.\n",
    "\n",
    "To indicate to Python that we want to modify a global variable within the function, we use the `global` keyword:"
   ]
  },
  {
   "cell_type": "code",
   "execution_count": null,
   "metadata": {},
   "outputs": [],
   "source": [
    "value = 10\n",
    "\n",
    "def change_value(v):\n",
    "    global value  # Any use of the variable `value` from this point refers to the global scope\n",
    "    value = v\n",
    "    print(\"Value is\", value)\n",
    "\n",
    "change_value(5)\n",
    "print(\"Result is\", value)"
   ]
  },
  {
   "cell_type": "markdown",
   "metadata": {},
   "source": [
    "Modifying global values from local scope is widely considered to be A Bad Idea™. When we reason about code, the scoping rules help us to trace where a variable may have been modified; allowing functions to modify global variables makes this job more difficult, by increasing the number of places where the variable could have changed. Hence, unless explicitly mentioned, you are not to use the `global` keyword.\n",
    "\n",
    "These rules will take some time for you to get used to, and you can remember them as follows:\n",
    "\n",
    "**\"Lower scopes can access variables from higher scopes, but cannot reassign them.\"**"
   ]
  },
  {
   "cell_type": "markdown",
   "metadata": {},
   "source": [
    "## Python troubleshooting: the `None` value\n",
    "\n",
    "A common beginner mistake is getting confused over whether a function returns a value or not. For instance:"
   ]
  },
  {
   "cell_type": "code",
   "execution_count": 7,
   "metadata": {},
   "outputs": [
    {
     "name": "stdout",
     "output_type": "stream",
     "text": [
      "1 + 1\n",
      "The result of 1 + 1 is None\n"
     ]
    }
   ],
   "source": [
    "result = print(\"1 + 1\")\n",
    "print(\"The result of 1 + 1 is\", result)"
   ]
  },
  {
   "cell_type": "markdown",
   "metadata": {},
   "source": [
    "This happens because the `print()` function does not return a value; functions that do not return a value will instead return `None`. `None` is a special value in Python that is used to represent the absence of a value. It cannot be used with most operators, and is treated as `False` if converted to a boolean."
   ]
  },
  {
   "cell_type": "markdown",
   "metadata": {},
   "source": [
    "## Abstraction and Responsibility\n",
    "\n",
    "A general rule when abstracting code using functions is to have each function \"handle only one thing\". The following code demonstrates a function that handles two things:\n",
    "\n",
    "- calculates the area of a rectangle\n",
    "- displays the area of the rectangle to the user in a suitable format"
   ]
  },
  {
   "cell_type": "code",
   "execution_count": 3,
   "metadata": {},
   "outputs": [
    {
     "name": "stdout",
     "output_type": "stream",
     "text": [
      "The area of a rectangle with dimensions 3 x 4 is 12\n"
     ]
    },
    {
     "data": {
      "text/plain": [
       "12"
      ]
     },
     "execution_count": 3,
     "metadata": {},
     "output_type": "execute_result"
    }
   ],
   "source": [
    "def area_of_rectangle(w, h):\n",
    "    area = w * h\n",
    "    print(\"The area of a rectangle with dimensions\", w, \"x\", h, \"is\", area)\n",
    "    return area\n",
    "\n",
    "area_of_rectangle(3, 4)"
   ]
  },
  {
   "cell_type": "markdown",
   "metadata": {},
   "source": [
    "This function is difficult to use. For example, if I want to display the information in a different format:"
   ]
  },
  {
   "cell_type": "code",
   "execution_count": 5,
   "metadata": {},
   "outputs": [
    {
     "name": "stdout",
     "output_type": "stream",
     "text": [
      "The area of a rectangle with dimensions 2 x 5 is 10\n",
      "Rect 1 area: 10\n",
      "The area of a rectangle with dimensions 3 x 4 is 12\n",
      "Rect 2 area: 12\n"
     ]
    }
   ],
   "source": [
    "rect1_w = 2\n",
    "rect1_h = 5\n",
    "rect2_w = 3\n",
    "rect2_h = 4\n",
    "print(\"Rect 1 area:\", area_of_rectangle(rect1_w, rect1_h))\n",
    "print(\"Rect 2 area:\", area_of_rectangle(rect2_w, rect2_h))"
   ]
  },
  {
   "cell_type": "markdown",
   "metadata": {},
   "source": [
    "The way `area_of_rectangle()` is defined makes it difficult to use those two functionalities separately. Whenever I calculate the area of a rectangle, its formatted display hangs on for the ride, even when not desired.\n",
    "\n",
    "Instead, we could split up these two responsibilities into two functions:"
   ]
  },
  {
   "cell_type": "code",
   "execution_count": 6,
   "metadata": {},
   "outputs": [
    {
     "name": "stdout",
     "output_type": "stream",
     "text": [
      "Rect 1 area: 10\n",
      "Rect 2 area: 12\n",
      "The area of a rectangle with dimensions 1 x 7 is 7\n"
     ]
    }
   ],
   "source": [
    "def calculate_rectangle_area(w, h):\n",
    "    \"\"\"Takes in the width and height of a rectangle, and returns its area\"\"\"\n",
    "    area = w * h\n",
    "    return area\n",
    "\n",
    "def display_rectangle(w, h):\n",
    "    \"\"\"Takes in the width and height of a rectangle. Displays information about the rectangle.\"\"\"\n",
    "    area = calculate_rectangle_area(w, h)\n",
    "    print(\"The area of a rectangle with dimensions\", w, \"x\", h, \"is\", area)\n",
    "\n",
    "rect1_w = 2\n",
    "rect1_h = 5\n",
    "rect2_w = 3\n",
    "rect2_h = 4\n",
    "print(\"Rect 1 area:\", calculate_rectangle_area(rect1_w, rect1_h))\n",
    "print(\"Rect 2 area:\", calculate_rectangle_area(rect2_w, rect2_h))\n",
    "display_rectangle(1, 7)"
   ]
  },
  {
   "cell_type": "markdown",
   "metadata": {},
   "source": [
    "This **code design** is more flexible, allowing us to use different functions together depending on what we are trying to achieve. We could use `calculate_rectangle_area()` on its own to get the area of a rectangle, or use `display_rectangle()` if we want to work at a higher level of abstraction.\n",
    "\n",
    "### Documentation: Function docstrings\n",
    "\n",
    "You may have noticed the text in triple-quotes (`\"\"\"...\"\"\"`) immediately after the function definition line. In Python, this triple-quoted text is called a **docstring**. Docstrings do not affect the functionality of code, and are used to describe the function for other programmers. It is good practice to write docstrings that describe:\n",
    "\n",
    "- The function's inputs, i.e. the arguments that it takes\n",
    "- The function's outputs, i.e. its return value type (if any)\n",
    "- What the function does, i.e. does the function calculate a value or cause an effect? What should the user expect?\n",
    "\n",
    "Docstrings help us to understand complex functions quickly, and are an act of communication with other programmers. Sample code from this point on will come with docstrings, and you are also expected to write them for all code you submit."
   ]
  },
  {
   "cell_type": "markdown",
   "metadata": {},
   "source": [
    "## Python Self-Help: the `help()` function\n",
    "\n",
    "Use the `help()` function to get a quick hint on how to use a function.\n",
    "\n",
    "Run the code cell below for an example of how to get help on the `len()` function."
   ]
  },
  {
   "cell_type": "code",
   "execution_count": 1,
   "metadata": {},
   "outputs": [
    {
     "name": "stdout",
     "output_type": "stream",
     "text": [
      "Help on built-in function len in module builtins:\n",
      "\n",
      "len(obj, /)\n",
      "    Return the number of items in a container.\n",
      "\n"
     ]
    }
   ],
   "source": [
    "help(len)"
   ]
  },
  {
   "cell_type": "markdown",
   "metadata": {},
   "source": [
    "The argument passed to the `help()` function does not include the parentheses. Do you know why?"
   ]
  },
  {
   "cell_type": "markdown",
   "metadata": {},
   "source": [
    "## Errors in Python: `NameError`\n",
    "\n",
    "When you try to invoke a variable that does not exist yet (e.g. if you typed the name wrongly), Python will halt and raise a `NameError`. This often happens when you are not careful with naming your variables, or if you try to use a self-written function (Lesson 5) before you have defined it.\n",
    "\n",
    "Run the code cell below without modifying the code. What do you think the result will be?"
   ]
  },
  {
   "cell_type": "code",
   "execution_count": null,
   "metadata": {},
   "outputs": [],
   "source": [
    "print(f'The number is {number}.')"
   ]
  },
  {
   "cell_type": "markdown",
   "metadata": {},
   "source": [
    "## Errors in Python: `TypeError`\n",
    "\n",
    "When you give the wrong data type to a function, Python will halt and raise a `TypeError`.\n",
    "\n",
    "In the cell below, try to raise a `TypeError` by using an operator or calling a function and giving it the wrong data type."
   ]
  },
  {
   "cell_type": "code",
   "execution_count": null,
   "metadata": {},
   "outputs": [],
   "source": [
    "## Try to raise a TypeError\n",
    "\n"
   ]
  },
  {
   "cell_type": "markdown",
   "metadata": {},
   "source": [
    "# Summary\n",
    "\n",
    "Research shows that **active recall**, the mental effort of attempting to remember, helps strengthen neuron connections. For each of the questions below, try to recall what you learnt from this lesson before you click to reveal.\n",
    "\n",
    "<ol>\n",
    "\n",
    "<li><details>\n",
    "    <summary>What's the difference between an expression and a statement? (click to reveal)</summary>\n",
    "    <p>An expression is evaluated to produce a value. A statement is executed to bring about an effect.</p>\n",
    "</details></li>\n",
    "\n",
    "<li><details>\n",
    "    <summary>What are rules for Python variable names? (click to reveal)</summary>\n",
    "    <ul>\n",
    "        <li>Begin with a lowercase letter or underscore (_)</li>\n",
    "        <li>Consist of letters, numbers, and underscore (_) only</li>\n",
    "        <li>Cannot be a Python keyword</li>\n",
    "    </ul>\n",
    "</details></li>\n",
    "\n",
    "<li><details>\n",
    "    <summary>What must a function definition contain? (click to reveal)</summary>\n",
    "    <ul>\n",
    "        <li>Function name</li>\n",
    "        <li>Zero or more parameters</li>\n",
    "        <li>optional: docstring</li>\n",
    "        <li>optional: type annotations for parameters and return type</li>\n",
    "        <li>optional: at least one return statement</li>\n",
    "    </ul>\n",
    "</details></li>\n",
    "\n",
    "<li><details>\n",
    "    <summary>What is the general rule for variable scoping? (click to reveal)</summary>\n",
    "    <p>Lower scopes can access variables from higher scopes, but cannot reassign them.</p>\n",
    "</details></li>\n",
    "\n",
    "</ol>"
   ]
  }
 ],
 "metadata": {
  "kernelspec": {
   "display_name": "Python 3 (ipykernel)",
   "language": "python",
   "name": "python3"
  },
  "language_info": {
   "codemirror_mode": {
    "name": "ipython",
    "version": 3
   },
   "file_extension": ".py",
   "mimetype": "text/x-python",
   "name": "python",
   "nbconvert_exporter": "python",
   "pygments_lexer": "ipython3",
   "version": "3.7.7"
  }
 },
 "nbformat": 4,
 "nbformat_minor": 2
}
