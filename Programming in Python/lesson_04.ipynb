{
 "cells": [
  {
   "cell_type": "markdown",
   "metadata": {},
   "source": [
    "## 1-minute introduction to Jupyter ##\n",
    "\n",
    "A Jupyter notebook consists of cells. Each cell contains either text or code.\n",
    "\n",
    "A text cell will not have any text to the left of the cell. A code cell has `In [ ]:` to the left of the cell.\n",
    "\n",
    "If the cell contains code, you can edit it. Press <kbd>Enter</kbd> to edit the selected cell. While editing the code, press <kbd>Enter</kbd> to create a new line, or <kbd>Shift</kbd>+<kbd>Enter</kbd> to run the code. If you are not editing the code, select a cell and press <kbd>Ctrl</kbd>+<kbd>Enter</kbd> to run the code."
   ]
  },
  {
   "cell_type": "markdown",
   "metadata": {},
   "source": [
    "# Lesson 4: Recursion\n",
    "\n",
    "In lesson 3, we wrote some code to validate a phone number:\n",
    "\n",
    "```python\n",
    "def validate(userinput):\n",
    "    \"\"\"Takes in user input as a str\n",
    "    Validates the input.\n",
    "    Returns an appropriate message representing the result of validation.\n",
    "    \"\"\"\n",
    "    if not userinput:\n",
    "        return \"Nothing was typed\"\n",
    "    elif not userinput.isdecimal():\n",
    "        return \"Type digits only\"\n",
    "    elif len(userinput) != 8:\n",
    "        return \"Phone number consists of 8 digits\"\n",
    "    elif not (\n",
    "            userinput.startswith(\"6\")\n",
    "            or userinput.startswith(\"8\")\n",
    "            or userinput.startswith(\"9\")\n",
    "    ):\n",
    "        return \"Phone number must begin with 6, 8, or 9\"\n",
    "    else:\n",
    "        return \"ok\"\n",
    "\n",
    "def prompt_valid_phone_number():\n",
    "    \"\"\"Prompt the user for a phone number.\n",
    "    Displays an error message if the phone number is invalid.\n",
    "    Otherwise returns the user input if phone number is valid.\n",
    "    \"\"\"\n",
    "    userinput = input('Type a phone number: ')\n",
    "\n",
    "    result = validate(userinput)\n",
    "    if result != \"ok\":\n",
    "        print(result)\n",
    "    else:\n",
    "        return userinput\n",
    "```\n",
    "\n",
    "This code only prompts the user for input once, and returns the input if valid, or displays an error message if it is not."
   ]
  },
  {
   "cell_type": "markdown",
   "metadata": {},
   "source": [
    "## Recursion: a function that calls itself\n",
    "\n",
    "We can modify it slightly to have it re-prompt the user after displaying an error message:"
   ]
  },
  {
   "cell_type": "code",
   "execution_count": null,
   "metadata": {},
   "outputs": [],
   "source": [
    "def validate(userinput):\n",
    "    \"\"\"Takes in user input as a str\n",
    "    Validates the input.\n",
    "    Returns an appropriate message representing the result of validation.\n",
    "    \"\"\"\n",
    "    if not userinput:\n",
    "        return \"Nothing was typed\"\n",
    "    elif not userinput.isdecimal():\n",
    "        return \"Type digits only\"\n",
    "    elif len(userinput) != 8:\n",
    "        return \"Phone number consists of 8 digits\"\n",
    "    elif not (\n",
    "            userinput.startswith(\"6\")\n",
    "            or userinput.startswith(\"8\")\n",
    "            or userinput.startswith(\"9\")\n",
    "    ):\n",
    "        return \"Phone number must begin with 6, 8, or 9\"\n",
    "    else:\n",
    "        return \"ok\"\n",
    "\n",
    "def prompt_valid_phone_number():\n",
    "    \"\"\"Prompt the user for a phone number.\n",
    "    Displays an error message if the phone number is invalid.\n",
    "    Otherwise returns the user input if phone number is valid.\n",
    "    \"\"\"\n",
    "    userinput = input('Type a phone number: ')\n",
    "    result = validate(userinput)\n",
    "    if result != \"ok\":\n",
    "        print(result)\n",
    "        return prompt_valid_phone_number()  # <-- line added\n",
    "    else:\n",
    "        return userinput"
   ]
  },
  {
   "cell_type": "markdown",
   "metadata": {},
   "source": [
    "What we have here is **recursion**, a programming feature where a function calls itself. Recursion allows a program, or part of a program, to repeat itself."
   ]
  },
  {
   "cell_type": "markdown",
   "metadata": {},
   "source": [
    "### Features of successful recursion\n",
    "\n",
    "Recursion can be very powerful, but also comes with its own pitfalls. For instance, our code above could keep repeating itself almost indefinitely; this is prevented only by the patience of our user, who will presumably give up after a sufficient number of tries, or succeed in entering a correct phone number.\n",
    "\n",
    "Notice that the recursive call only takes place on line 31, in the `if` branch. The `else` branch (lines 32-33), does not have a recursive call. The condition for this branch is called the **base case**.\n",
    "\n",
    "There are in fact 3 conditions required for successful recursion:\n",
    "\n",
    "1. A recursive function must call itself\n",
    "2. A recursive function must handle a base case (without a recursive call)\n",
    "3. Each successive recursive call must bring the function closer to the base case\n",
    "\n",
    "The above example is not very good for demonstrating these features, because the input for each call comes from the user. Let's use another problem to demonstrate recursion, with more deterministic inputs."
   ]
  },
  {
   "cell_type": "markdown",
   "metadata": {},
   "source": [
    "## Recursion demonstrated: factorial\n",
    "\n",
    "The following code demonstrates a function that calculates the factorial of its input. Typically we would perform some validation on the input before proceeding, but we skip this step here for brevity."
   ]
  },
  {
   "cell_type": "code",
   "execution_count": null,
   "metadata": {},
   "outputs": [],
   "source": [
    "def factorial(n):\n",
    "    \"\"\"Takes in an integer, n (assumed to be 0 or positive)\n",
    "    Returns n! (n factorial)\n",
    "    \"\"\"\n",
    "    # Validation is typically done first, but skipped here for brevity\n",
    "    if n <= 1:  # base case\n",
    "        return 1\n",
    "    else:\n",
    "        return n * factorial(n - 1)\n",
    "    \n",
    "print(factorial(5))"
   ]
  },
  {
   "cell_type": "markdown",
   "metadata": {},
   "source": [
    "Can you see where each of the recursion conditions is demonstrated?\n",
    "\n",
    "1. A recursive function must call itself  \n",
    "   **line 9**\n",
    "2. A recursive function must handle a base case (without a recursive call)  \n",
    "   **lines 6-7**\n",
    "3. Each successive recursive call must bring the function closer to the base case  \n",
    "   **line 9**: `n - 1` brings the function closer to the base case of `n == 1`"
   ]
  },
  {
   "cell_type": "markdown",
   "metadata": {},
   "source": [
    "### Exercise 1\n",
    "\n",
    "Write a recursive function, `triangular_sum(n)`, that takes in a positive integer `n` and returns the sum of numbers from 1 to `n`.\n",
    "\n",
    "Also write a docstring for this function—you will need the practice!\n",
    "\n",
    "Check if your function meets the three requirements above.\n",
    "\n",
    "(_See [Triangular number](https://en.wikipedia.org/wiki/Triangular_number) if curious._)"
   ]
  },
  {
   "cell_type": "code",
   "execution_count": null,
   "metadata": {},
   "outputs": [],
   "source": [
    "def triangular_sum(n):\n",
    "    \"\"\"Write an appropriate docstring\"\"\"\n",
    "    # Write your code here\n",
    "    \n",
    "print(triangular_sum(5))  # Expected: 15"
   ]
  },
  {
   "cell_type": "markdown",
   "metadata": {},
   "source": [
    "### Jupyter notebook troubleshooting: infinite recursion\n",
    "\n",
    "If you accidentally wrote a recursive function that does not fulfill the above 3 recursion conditions, you might end up with a function that recurses infinitely. In Jupyter notebook, this will cause your notebook to stop responding, and the running cell will show `[*]:` on the left without response even after a few seconds.\n",
    "\n",
    "If this happens, restart the kernel: select **Kernel > Restart** from the menu."
   ]
  },
  {
   "cell_type": "markdown",
   "metadata": {},
   "source": [
    "### Exercise 2\n",
    "\n",
    "Write a recursive function, `fibonacci(n)`, that takes in a positive integer `n` and returns the `n`th number in the [Fibonacci sequence](https://en.wikipedia.org/wiki/Fibonacci_sequence). This is a sequence where each successive number is the sum of the two numbers preceding it.\n",
    "\n",
    "As a base case, you can use the following:\n",
    "- `fibo(0) -> 0`\n",
    "- `fibo(1) -> 1`\n",
    "\n",
    "Also write a docstring for this function—you will need the practice!\n",
    "\n",
    "Check if your function meets the three requirements above."
   ]
  },
  {
   "cell_type": "code",
   "execution_count": null,
   "metadata": {},
   "outputs": [],
   "source": [
    "def fibonacci(n):\n",
    "    \"\"\"Write an appropriate docstring\"\"\"\n",
    "    # Write your code here\n",
    "    \n",
    "print(fibonacci(10))  # Expected: 55"
   ]
  },
  {
   "cell_type": "markdown",
   "metadata": {},
   "source": [
    "### Exercise 3\n",
    "\n",
    "The greatest common divisor (GCD, a.k.a. largest common factor) of two integers `a` and `b` is the largest integer `d` that is a divisor of both `a` and `b` (i.e. `a / d` and `b / d` are both integers).\n",
    "\n",
    "The [Euclidean algorithm](https://en.wikipedia.org/wiki/Euclidean_algorithm) is a simple algorithm for determining the GCD of two integers `a` and `b` as follows:\n",
    "\n",
    "1. If the two numbers are equal, the GCD is found.\n",
    "2. Otherwise, take the difference of the two numbers. Repeat the algorithm with the smallest two numbers (i.e. pick the smallest of `a`, `b`, and `abs(a - b)`).\n",
    "\n",
    "Write a recursive function, `gcd(a, b)`, that takes in two positive integers `a` and `b` and returns `d`, greatest common divisor of `a` and `b`.\n",
    "\n",
    "Also write a docstring for this function—you will need the practice!\n",
    "\n",
    "Check if your function meets the three requirements above."
   ]
  },
  {
   "cell_type": "code",
   "execution_count": null,
   "metadata": {},
   "outputs": [],
   "source": [
    "def gcd(a, b):\n",
    "    \"\"\"Write an appropriate docstring\"\"\"\n",
    "    # Write your code here\n",
    "    \n",
    "print(gcd(60, 12))  # Expected: 5"
   ]
  },
  {
   "cell_type": "markdown",
   "metadata": {},
   "source": [
    "## Python feature: function annotations\n",
    "\n",
    "While recursive algorithms are usually simple, the process of writing them can be difficult. While writing them, it is easy to lose track of your thinking process, and forget what the input parameter types are, and the expected return type. We won't run into such examples in this lesson yet, but that should not stop us from learning some thinking tools that will help us when we do.\n",
    "\n",
    "Python allows the use of **function annotations**, which are additional text that we include in the function definition line. These annotations help us keep track of the function's parameter types, as well as its return type. The following examples show what annotated function definitions look like, without the implementation code:"
   ]
  },
  {
   "cell_type": "code",
   "execution_count": null,
   "metadata": {},
   "outputs": [],
   "source": [
    "def gcd(a: int, b: int) -> int:\n",
    "    \"\"\"A function that takes in two integers and returns their greatest common divisor\"\"\"\n",
    "    \n",
    "def prompt_valid_phone_number() -> str:\n",
    "    \"\"\"Prompts the user for a phone number.\n",
    "    Displays an error message if the phone number is invalid.\n",
    "    Otherwise re-prompts the user until a valid phone number is inputted.\n",
    "    Returns the phone number as a str.\n",
    "    \"\"\""
   ]
  },
  {
   "cell_type": "markdown",
   "metadata": {},
   "source": [
    "During execution, Python ignores these annotations; they **do not affect the running of the code**. This also means that Python will not help you to check that arguments passed to the function are of the correct type, so you still need to do your own validation where required.\n",
    "\n",
    "However, invalid annotations can still cause `SyntaxError`s, so use standard Python types in the annotations. Where this is not possible, you can also use strings, for example:"
   ]
  },
  {
   "cell_type": "code",
   "execution_count": null,
   "metadata": {},
   "outputs": [],
   "source": [
    "def add(x: \"number or str\", y: \"number or str\") -> \"number or str\":\n",
    "    return x + y"
   ]
  },
  {
   "cell_type": "markdown",
   "metadata": {},
   "source": [
    "## Errors in Python: `RecursionError`\n",
    "\n",
    "Sometimes, you may run across the following error:\n",
    "\n",
    "```\n",
    "RecursionError: maximum recursion depth exceeded\n",
    "```\n",
    "\n",
    "This means your code was caught in an infinite recursion (because you did not meet one or more of the successful-recursion requirements). In Jupyter Notebook, you might not see this error if the kernel crashes before it happens; if you are working on a recursive function and the kernel crashes when you run it, take it as a sign that you might be looking at an infinite recursion error.\n",
    "\n",
    "The recursive function below is incorrectly implemented, causing it to go into infinite recursion. Run it to see what happens:"
   ]
  },
  {
   "cell_type": "code",
   "execution_count": null,
   "metadata": {},
   "outputs": [],
   "source": [
    "def triangular_sum(n):\n",
    "    \"\"\"Returns the triangular sum of numbers from 1 to n (wrong implementation)\"\"\"\n",
    "    return n + triangular_sum(n - 1)\n",
    "    \n",
    "print(triangular_sum(5))  # Expected: 15"
   ]
  },
  {
   "cell_type": "markdown",
   "metadata": {},
   "source": [
    "## Tip: Don't \"recurse\" in your brain\n",
    "\n",
    "When beginners try to write recursive code, they often get stuck trying to trace each recursive call. This is a one-way ticket to madness.\n",
    "\n",
    "For an easier time with recursion,\n",
    "\n",
    "1. Start with the base case  \n",
    "   The base case is a terminating result for the function: no recursion is needed, and the function should be able to return a result or carry out an effect immediately.  \n",
    "   Ask yourself: in what case(s) do I not have to make a recursive call? What should the function do / return in this case?\n",
    "2. Trust the function  \n",
    "   Each function call should take in input and return a valid result. Each recursive call returns a result that its caller builds on. Attempting to imagine the entire stack of function calls means you don't trust what's going on inside the function, and have to try to imagine it in your head.  \n",
    "   Ask yourself: what is the simplest thing I can do in **this recursive call**, without having to understand the next deeper level? How do I break down the input slightly to bring it closer to the base case in the next call?\n",
    "3. Treat the function as a \"black box\"  \n",
    "   Writing function annotations helps greatly with this. You don't understand how Python's built-in functions, such as `len()` or `abs()`, work either, but that does not stop you from using them. Focus on knowing what the function takes in, and what it returns / does.  \n",
    "   Do the same with your recursive calls. Treat each recursive call as a \"black box\": assume it returns the expected result, and figure out what to do with that returned result. What do you need to do to this result in order to return the correct value for the current call?"
   ]
  },
  {
   "cell_type": "markdown",
   "metadata": {},
   "source": [
    "# Summary\n",
    "\n",
    "Research shows that **active recall**, the mental effort of attempting to remember, helps strengthen neuron connections. For each of the questions below, try to recall what you learnt from this lesson before you click to reveal.\n",
    "\n",
    "<ol>\n",
    "\n",
    "<li><details>\n",
    "    <summary>What are three requirements for successful recursion? (click to reveal)</summary>\n",
    "    <ul>\n",
    "        <li>A recursive function must call itself</li>\n",
    "        <li>A recursive function must handle a base case (without a recursive call)</li>\n",
    "        <li>Each successive recursive call must bring the function closer to the base case</li>\n",
    "    </ul>\n",
    "</details></li>\n",
    "\n",
    "</ol>"
   ]
  }
 ],
 "metadata": {
  "kernelspec": {
   "display_name": "Python 3 (ipykernel)",
   "language": "python",
   "name": "python3"
  },
  "language_info": {
   "codemirror_mode": {
    "name": "ipython",
    "version": 3
   },
   "file_extension": ".py",
   "mimetype": "text/x-python",
   "name": "python",
   "nbconvert_exporter": "python",
   "pygments_lexer": "ipython3",
   "version": "3.7.7"
  }
 },
 "nbformat": 4,
 "nbformat_minor": 2
}
