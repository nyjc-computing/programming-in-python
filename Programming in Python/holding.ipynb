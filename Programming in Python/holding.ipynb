{
 "cells": [
  {
   "cell_type": "markdown",
   "metadata": {},
   "source": [
    "## Advanced strings: f-string formatting\n",
    "\n",
    "Up to this point, if we need to print complex output strings, we either join the strings using the `+` operator (a.k.a. **string concatenation**), or rely on the `print()` function to do it for us. For example, in Assignment 2, we printed the result in scientific E notation like so:\n",
    "\n",
    "```python\n",
    "print('This number in E notation is', e_notation + '.')\n",
    "```\n",
    "\n",
    "Python has a much more powerful way for us to embed values from variables into strings. This method is known as **formatted string literals**, or **f-strings**  in short. To use f-strings, we put an `f` before the string quotes:\n",
    "\n",
    "```python\n",
    "f'This number in E notation is _____.'\n",
    "```\n",
    "\n",
    "Then we insert the variable name where we want the value to appear ...\n",
    "\n",
    "```python\n",
    "f'This number in E notation is e_notation.'\n",
    "```\n",
    "\n",
    "And we surround the variable name with curly brackets (`{}`):\n",
    "\n",
    "```python\n",
    "f'This number in E notation is {e_notation}.'\n",
    "```\n",
    "\n",
    "As long as we actually have a variable named `e_notation`, when Python evaluates this statement, it will first evaluate the result of the expression in curly brackets, and then insert it."
   ]
  },
  {
   "cell_type": "code",
   "execution_count": null,
   "metadata": {},
   "outputs": [],
   "source": [
    "## Old method of substituting values in a string\n",
    "\n",
    "name = 'Student1'\n",
    "class_ = 'Class1'\n",
    "contact = 12345678\n",
    "string = 'Student name: %s, Student class: %s, Student contact: %d' % (name, class_, contact)\n",
    "print(string)"
   ]
  },
  {
   "cell_type": "code",
   "execution_count": null,
   "metadata": {},
   "outputs": [],
   "source": [
    "## Another old method of substitutiing values in a string,\n",
    "## using the .format() method\n",
    "\n",
    "name = 'Student1'\n",
    "class_ = 'Class1'\n",
    "contact = 12345678\n",
    "string = 'Student name: {}, Student class: {}, Student contact: {}'.format(name, class_, contact)\n",
    "print(string)"
   ]
  },
  {
   "cell_type": "code",
   "execution_count": null,
   "metadata": {},
   "outputs": [],
   "source": [
    "## The new way of substituting values in a string.\n",
    "## This is called string interpolation.\n",
    "## You will hear this referenced popularly as \"f-strings\".\n",
    "\n",
    "name = 'Student1'\n",
    "class_ = 'Class1'\n",
    "contact = 12345678\n",
    "string = f'Student name: {name}, Student class: {class_}, Student contact: {contact}'\n",
    "print(string)"
   ]
  },
  {
   "cell_type": "markdown",
   "metadata": {},
   "source": [
    "## Using f-strings\n",
    "\n",
    "Run each line of code one by one in the code cell below and observe the result.\n",
    "\n",
    "1. `print(f'{type(True)}')` (you can use functions in the curly-bracket expression. Python will evaluate the result and convert it to a string automatically.)\n",
    "2. `print(f\"Works with double quotes\")`\n",
    "3. `print(f'Mixing single and double quotes\")` (like with regular strings, you still can't mix single and double quotes. You have to start and end an f-string with the same type of quote.)\n",
    "4. `print(f'The result of True and True is {True and True}')` (you can use expressions involving operators, boolean logic, and even other expressions, as long as they evaluate to a result.)\n",
    "\n",
    "f-strings are really powerful, and can help you print much more useful statements to understand what is going on in your code. We will be using them frequently in the subsequent lessons."
   ]
  },
  {
   "cell_type": "code",
   "execution_count": null,
   "metadata": {},
   "outputs": [],
   "source": [
    "## An example of what f-strings can do: format the value of the variable\n",
    "## according to a specified format.\n",
    "## See https://docs.python.org/3/tutorial/inputoutput.html#formatted-string-literals for details.\n",
    "\n",
    "num = '123.45'\n",
    "correct_dp = 2\n",
    "your_ans = 4\n",
    "\n",
    "print(f'The input {num} should have {correct_dp:03} dp but your answer is {your_ans}')"
   ]
  }
 ],
 "metadata": {
  "kernelspec": {
   "display_name": "Python 3 (ipykernel)",
   "language": "python",
   "name": "python3"
  },
  "language_info": {
   "codemirror_mode": {
    "name": "ipython",
    "version": 3
   },
   "file_extension": ".py",
   "mimetype": "text/x-python",
   "name": "python",
   "nbconvert_exporter": "python",
   "pygments_lexer": "ipython3",
   "version": "3.7.7"
  }
 },
 "nbformat": 4,
 "nbformat_minor": 4
}
