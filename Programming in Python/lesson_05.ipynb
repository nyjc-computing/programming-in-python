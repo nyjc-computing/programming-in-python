{
 "cells": [
  {
   "cell_type": "markdown",
   "metadata": {},
   "source": [
    "## 1-minute introduction to Jupyter ##\n",
    "\n",
    "A Jupyter notebook consists of cells. Each cell contains either text or code.\n",
    "\n",
    "A text cell will not have any text to the left of the cell. A code cell has `In [ ]:` to the left of the cell.\n",
    "\n",
    "If the cell contains code, you can edit it. Press <kbd>Enter</kbd> to edit the selected cell. While editing the code, press <kbd>Enter</kbd> to create a new line, or <kbd>Shift</kbd>+<kbd>Enter</kbd> to run the code. If you are not editing the code, select a cell and press <kbd>Ctrl</kbd>+<kbd>Enter</kbd> to run the code."
   ]
  },
  {
   "cell_type": "markdown",
   "metadata": {},
   "source": [
    "# Lesson 5: Iteration\n",
    "\n",
    "In lesson 4, we learned one way to repeat the code in a function by using recursion. Each recursive call passes new argument values to the function, bringing it closer to a base case.\n",
    "\n",
    "In this lesson, we learn another way to repeat code by using **iteration**. The key difference between recursion and iteration is that iteration need not involve a recursive call. Instead, we update a variable before repeating a segment of code.\n",
    "\n",
    "Let's revisit some familiar functions:"
   ]
  },
  {
   "cell_type": "code",
   "execution_count": null,
   "metadata": {},
   "outputs": [],
   "source": [
    "def validate(userinput):\n",
    "    \"\"\"Takes in user input as a str\n",
    "    Validates the input.\n",
    "    Returns an appropriate message representing the result of validation.\n",
    "    \"\"\"\n",
    "    if not userinput:\n",
    "        return \"Nothing was typed\"\n",
    "    elif not userinput.isdecimal():\n",
    "        return \"Type digits only\"\n",
    "    elif len(userinput) != 8:\n",
    "        return \"Phone number consists of 8 digits\"\n",
    "    elif not (\n",
    "            userinput.startswith(\"6\")\n",
    "            or userinput.startswith(\"8\")\n",
    "            or userinput.startswith(\"9\")\n",
    "    ):\n",
    "        return \"Phone number must begin with 6, 8, or 9\"\n",
    "    else:\n",
    "        return \"ok\"\n",
    "\n",
    "def prompt_valid_phone_number():\n",
    "    \"\"\"Prompt the user for a phone number.\n",
    "    Displays an error message if the phone number is invalid.\n",
    "    Otherwise returns the user input if phone number is valid.\n",
    "    \"\"\"\n",
    "    userinput = input('Type a phone number: ')\n",
    "    result = validate(userinput)\n",
    "    while result != \"ok\":\n",
    "        print(result)\n",
    "        userinput = input('Type a phone number: ')\n",
    "        result = validate(userinput)\n",
    "    return userinput"
   ]
  },
  {
   "cell_type": "markdown",
   "metadata": {},
   "source": [
    "This code performs the same purpose it did in Lesson 4, with the only difference being in lines 29-32. I'll display both below for easier comparison:\n",
    "\n",
    "##### Lesson 4: Recursion\n",
    "```python\n",
    "    if result != \"ok\":\n",
    "        print(result)\n",
    "        return prompt_valid_phone_number()\n",
    "    else:\n",
    "        return userinput\n",
    "```\n",
    "\n",
    "##### Lesson 5: Iteration\n",
    "```python\n",
    "    while result != \"ok\":\n",
    "        print(result)\n",
    "        userinput = input('Type a phone number: ')\n",
    "        result = validate(userinput)\n",
    "    return userinput\n",
    "```\n",
    "\n",
    "Notice the difference? Instead of a recursive call, we used a different keyword, `while`."
   ]
  },
  {
   "cell_type": "markdown",
   "metadata": {},
   "source": [
    "## Conditional iteration with a `while` loop\n",
    "\n",
    "A `while` statement uses the following syntax:\n",
    "\n",
    "```\n",
    "while <conditional expression>:\n",
    "    <statement 1>\n",
    "    <statement 2>\n",
    "    ...\n",
    "```\n",
    "\n",
    "When a `while` statement is encountered, Python evaluates the conditional expression. If the expression evaluates to `True`, Python executes the statements indented below the `while` line. When that is done, we return to the conditional expression, which is evaluated again.  \n",
    "If the result is `True`, the statements are executed again. If `False`, the `while` block is completed and code execution moves on to the next line of code after the `while` block.\n",
    "\n",
    "Let's see another example of a `while` loop in use:"
   ]
  },
  {
   "cell_type": "code",
   "execution_count": null,
   "metadata": {},
   "outputs": [],
   "source": [
    "# Run this code cell\n",
    "\n",
    "def factorial(n: int) -> int:\n",
    "    \"\"\"Takes in an integer, n (assumed to be 0 or positive)\n",
    "    Returns n!\n",
    "    \"\"\"\n",
    "    product = 1\n",
    "    while n > 1:\n",
    "        product = product * n\n",
    "    return product\n",
    "    \n",
    "print(factorial(5))"
   ]
  },
  {
   "cell_type": "markdown",
   "metadata": {},
   "source": [
    "... this cell doesn't seem to stop, does it? That's because we got stuck in an infinite loop ... it's never going to end.\n",
    "\n",
    "Select **Kernel > Interrupt** from the menu to stop the notebook.\n",
    "\n",
    "What happened? Let's look at the loop again:\n",
    "\n",
    "```python\n",
    "while n > 1:\n",
    "    ...\n",
    "```\n",
    "\n",
    "When the statements finished executing, Python evaluates `n > 1` again. Since `n` has not been updated, this condition remains `True`, and will continue being `True`. For this loop, we need to update the function variables in a way that allows the loop to eventually end; this is similar to the requirement for a base case in recursion.\n",
    "\n",
    "Thus, a common pattern for using `while` loops has the following requirements:\n",
    "\n",
    "```\n",
    "<1. initialisation>\n",
    "while <2. continuation condition>:\n",
    "    ...\n",
    "    <3. update variables to bring loop closer to termination condition>\n",
    "    ...\n",
    "```\n",
    "\n",
    "In our `factorial()` function above, can you identify these features?\n",
    "\n",
    "1. Initialisation: `n` is initialised as a parameter in the function\n",
    "2. Continuation condition: `n > 1`\n",
    "3. Update towards termination: ???\n",
    "\n",
    "The above implementation was missing the update requirement. Let's put that in:"
   ]
  },
  {
   "cell_type": "code",
   "execution_count": null,
   "metadata": {},
   "outputs": [],
   "source": [
    "# Run this code cell\n",
    "\n",
    "def factorial(n: int) -> int:\n",
    "    \"\"\"Takes in an integer, n (assumed to be 0 or positive)\n",
    "    Returns n!\n",
    "    \"\"\"\n",
    "    product = 1\n",
    "    while n > 1:\n",
    "        product = product * n\n",
    "        n = n - 1  # <-- update towards termination\n",
    "    return product\n",
    "    \n",
    "print(factorial(5))"
   ]
  },
  {
   "cell_type": "markdown",
   "metadata": {},
   "source": [
    "### Exercise 1\n",
    "\n",
    "Write an iterative function, `triangular_sum(n)`, that takes in a positive integer `n` and returns the sum of numbers from 1 to `n`.\n",
    "\n",
    "Also write a docstring for this function—you will need the practice!\n",
    "\n",
    "Check if your function meets the three requirements above."
   ]
  },
  {
   "cell_type": "code",
   "execution_count": null,
   "metadata": {},
   "outputs": [],
   "source": [
    "def triangular_sum(n: int) -> int:\n",
    "    \"\"\"Write an appropriate docstring\"\"\"\n",
    "    # Write your code here\n",
    "    \n",
    "print(triangular_sum(5))  # Expected: 15"
   ]
  },
  {
   "cell_type": "markdown",
   "metadata": {},
   "source": [
    "### Exercise 2\n",
    "\n",
    "Write an iterative function, `fibonacci(n)`, that takes in a positive integer `n` and returns the `n`th number in the [Fibonacci sequence](https://en.wikipedia.org/wiki/Fibonacci_sequence). This is a sequence where each successive number is the sum of the two numbers preceding it.\n",
    "\n",
    "As a base case, you can use the following:\n",
    "- `fibo(0) -> 0`\n",
    "- `fibo(1) -> 1`\n",
    "\n",
    "Also write a docstring for this function—you will need the practice!\n",
    "\n",
    "Check if your function meets the three requirements above."
   ]
  },
  {
   "cell_type": "code",
   "execution_count": null,
   "metadata": {},
   "outputs": [],
   "source": [
    "def fibonacci(n: int) -> int:\n",
    "    \"\"\"Write an appropriate docstring\"\"\"\n",
    "    # Write your code here\n",
    "    \n",
    "print(fibonacci(10))  # Expected: 55"
   ]
  },
  {
   "cell_type": "markdown",
   "metadata": {},
   "source": [
    "### Exercise 3\n",
    "\n",
    "The greatest common divisor (GCD, a.k.a. largest common factor) of two integers `a` and `b` is the largest integer `d` that is a divisor of both `a` and `b` (i.e. `a / d` and `b / d` are both integers).\n",
    "\n",
    "The [Euclidean algorithm](https://en.wikipedia.org/wiki/Euclidean_algorithm) is a simple algorithm for determining the GCD of two integers `a` and `b` as follows:\n",
    "\n",
    "1. If the two numbers are equal, the GCD is found.\n",
    "2. Otherwise, take the difference of the two numbers. Repeat the algorithm with the smallest two numbers (i.e. pick the smallest of `a`, `b`, and `abs(a - b)`).\n",
    "\n",
    "Write an iterative function, `gcd(a, b)`, that takes in two positive integers `a` and `b` and returns `d`, greatest common divisor of `a` and `b`.\n",
    "\n",
    "Also write a docstring for this function—you will need the practice!\n",
    "\n",
    "Check if your function meets the three requirements above."
   ]
  },
  {
   "cell_type": "code",
   "execution_count": null,
   "metadata": {},
   "outputs": [],
   "source": [
    "def gcd(a: int, b: int) -> int:\n",
    "    \"\"\"Write an appropriate docstring\"\"\"\n",
    "    # Write your code here\n",
    "    \n",
    "print(gcd(60, 12))  # Expected: 5"
   ]
  },
  {
   "cell_type": "markdown",
   "metadata": {},
   "source": [
    "## Fixed iteration\n",
    "\n",
    "In the above examples, we do not know how many repetitions will be required before the algorithm completes; the algorithm is complete only when a certain condition is met.\n",
    "\n",
    "In the next few examples, we know how many repetitions will be required; such algorithms involve a fixed number of repetitions, and we use a different kind of loop for them: the `for` loop."
   ]
  },
  {
   "cell_type": "markdown",
   "metadata": {},
   "source": [
    "### Crash course: `str` indexing\n",
    "\n",
    "If I have a string like `\"hello world\"`, how do I refer to individual characters in the string?\n",
    "\n",
    "In Python, we do so using indexes. Indexes are integers representing positions in a string; index `0` refers to the first character, index `1` refers to the second character, and so on. Since `\"hello world\"` has 11 characters, the largest index is `10`. This system of indexing is called **zero indexing**, and will take you some time to get used to; have patience."
   ]
  },
  {
   "cell_type": "code",
   "execution_count": null,
   "metadata": {},
   "outputs": [],
   "source": [
    "value = \"hello world\"\n",
    "\n",
    "print(value[0])  # first character\n",
    "print(value[1])  # second character\n",
    "\n",
    "# Unlike many other programming languages, Python allows negative indexes.\n",
    "# -1 refers to the last character, -2 to the second last character, and so on.\n",
    "# Negative values can get confusing to read and track, so their use is generally discouraged.\n",
    "print(value[-1])  # last character\n",
    "print(value[-2])  # second-last character"
   ]
  },
  {
   "cell_type": "markdown",
   "metadata": {},
   "source": [
    "## Fixed iteration with a `for` loop: using indexes\n",
    "\n",
    "To iterate through a sequence of numbers, we can employ the aid of the built-in `range()` function:"
   ]
  },
  {
   "cell_type": "code",
   "execution_count": null,
   "metadata": {},
   "outputs": [],
   "source": [
    "# Run the code cell below with different values of n and see what happens\n",
    "\n",
    "n = 10\n",
    "for number in range(0, n):\n",
    "    print(number)"
   ]
  },
  {
   "cell_type": "markdown",
   "metadata": {},
   "source": [
    "Note that:\n",
    "\n",
    "1. `range()` takes in two arguments, a starting integer and a terminating integer.\n",
    "2. The values produced by `range()` include the starting integer but excludes the terminating integer.\n",
    "3. `range()` can also be called with only one argument. In this case, the argument is treated as the terminating integer, and the starting integer is taken to be `0`.\n",
    "4. In each iteration through the loop, the `number` variable is updated with the next value generated by `range()`."
   ]
  },
  {
   "cell_type": "markdown",
   "metadata": {},
   "source": [
    "### Iterating through a string using indexes\n",
    "\n",
    "We can combine string indexing with range iteration to iterate through each character in a string, by employing the help of the `len()` function (covered in Lesson 1):"
   ]
  },
  {
   "cell_type": "code",
   "execution_count": null,
   "metadata": {},
   "outputs": [],
   "source": [
    "value = \"hello world\"\n",
    "print(\"String length:\", len(value))\n",
    "\n",
    "for i in range(len(value)):  # starting integer taken to be 0 if not provided\n",
    "    print(value[i])"
   ]
  },
  {
   "cell_type": "markdown",
   "metadata": {},
   "source": [
    "Note that:\n",
    "\n",
    "1. For a string of length 11 (i.e. has 11 characters), the indexes range from 0 to 10 (inclusive).\n",
    "2. We use `range()` to generate these indexes. Because the terminating integer is excluded, passing the result of `len()` directly to `range()` conveniently gives us the correct range of values; this is an intentional language design decision on the part of the Python language designers.\n",
    "3. In each iteration, the variable `i` is updated with the next value generated by `range()`.\n",
    "\n",
    "Also,\n",
    "\n",
    "4. As a Python programming convention, single-letter variable names are frowned upon except in special cases. The variable names `i`, `j`, and `k` are often reserved for use as sequence indexes, and are commonly understood to be used for that purpose."
   ]
  },
  {
   "cell_type": "markdown",
   "metadata": {},
   "source": [
    "### Exercise 4\n",
    "\n",
    "Write an iterative function, `count(text, char)`, that takes in:\n",
    "- a string `text`\n",
    "- a single character `char`\n",
    "- returns an integer representing the number of times `char` appears in `text`\n",
    "\n",
    "Also write a docstring for this function—you will need the practice! When using variables, give them appropriate names for readability: clear code reflects clear thinking.\n",
    "\n",
    "<details>\n",
    "    <summary><b>Hint</b> (click to open)</summary>\n",
    "    <p>You will need an integer variable to hold the number of occurrences. In each iteration, increment (i.e. increase by 1) this variable when the character matches <code>char</code>.</p>\n",
    "</details>"
   ]
  },
  {
   "cell_type": "code",
   "execution_count": null,
   "metadata": {},
   "outputs": [],
   "source": [
    "def count(text: str, char: str) -> int:\n",
    "    \"\"\"Write an appropriate docstring\"\"\"\n",
    "    # Write your code here\n",
    "    \n",
    "    \n",
    "count(\"the quick brown fox jumps over the lazy dog\", \"o\")  # expected: 4"
   ]
  },
  {
   "cell_type": "markdown",
   "metadata": {},
   "source": [
    "## Fixed iteration with a `for` loop: direct iteration through items\n",
    "\n",
    "If we do not need to use the index within the iteration (besides to access each item), Python also allows us to use a simpler form of the `for` loop:"
   ]
  },
  {
   "cell_type": "code",
   "execution_count": null,
   "metadata": {},
   "outputs": [],
   "source": [
    "value = \"hello world\"\n",
    "print(\"String length:\", len(value))\n",
    "\n",
    "for char in value:\n",
    "    print(char)"
   ]
  },
  {
   "cell_type": "markdown",
   "metadata": {},
   "source": [
    "Note that:\n",
    "\n",
    "1. `range()` is not used here; we directly use the string in the `for` loop for interation.\n",
    "2. Since we are not iterating through indexes, we do not use variable names `i`, `j`, and `k`. Instead, we use an appropriate variable name depending on the type of item we are iterating through, for readability.\n",
    "3. In each iteration, the variable `char` is updated with the next item from the sequence `value`."
   ]
  },
  {
   "cell_type": "markdown",
   "metadata": {},
   "source": [
    "### Exercise 4 redux\n",
    "\n",
    "Retry exercise 4, using direct iteration instead of indexed iteration."
   ]
  },
  {
   "cell_type": "markdown",
   "metadata": {},
   "source": [
    "### Exercise 5\n",
    "\n",
    "Write an iterative function, `substring(text, start, end)`, that takes in:\n",
    "- a string `text`\n",
    "- two integers, `start` and `end`, representing the start and end index respectively\n",
    "- returns the substring representing the contents of `text` from `start` to `end`, excluding the last index.\n",
    "\n",
    "For brevity, we will assume `start` and `end` are valid indexes, and `start` <= `end`; no validation is required.\n",
    "\n",
    "**Example**\n",
    "\n",
    "- `substring(\"hello world\", 0, 5)` should give `\"hello\"` (note that `o` has index 4; the space after `o` is not included because we exclude the last index)\n",
    "- `substring(\"hello world\", 4, 6)` should give `\"o \"`\n",
    "\n",
    "When using variables, give them appropriate names for readability: clear code reflects clear thinking.\n",
    "\n",
    "<details>\n",
    "    <summary><b>Hint</b> (click to open)</summary>\n",
    "    <p>You will need a string variable to hold the substring that you are building up. Use a loop to go through the sequence of indexes from <code>start</code> to <code>end</code>, concatenating each character to the substring.</p>\n",
    "</details>"
   ]
  },
  {
   "cell_type": "code",
   "execution_count": null,
   "metadata": {},
   "outputs": [],
   "source": [
    "def substring(text: str, start: int, end: int) -> str:\n",
    "    \"\"\"Returns the substring of text from start index to end index, excluding the last index\"\"\"\n",
    "    # Write your code here\n",
    "    \n",
    "    \n",
    "print(substring(\"hello world\", 0, 5))  # expected: \"hello\"\n",
    "print(substring(\"hello world\", 4, 6))  # expected: \"o \""
   ]
  },
  {
   "cell_type": "markdown",
   "metadata": {},
   "source": [
    "## Crash course: `str` slicing\n",
    "\n",
    "In Python, accessing a subset of a string is called **slicing**. We perform slicing using the following syntax:\n",
    "\n",
    "`<text>[start:end]`\n",
    "\n",
    "If we assign `text = \"hello world\"`, then `text[0:5]` has the same effect as `substring(\"hello world\", 0, 5)` from our above function.  \n",
    "Similarly, `text[4:6]` has the same effect as `substring(\"hello world\", 4, 6)`.\n",
    "\n",
    "### Why do we need to write a `substring()` function if string slicing already exists?\n",
    "\n",
    "As a casual programmer, it is enough to know what features are available in Python, and how to use them.\n",
    "\n",
    "As a H2 Computing student, however, you need to build up a fundamental conceptual understanding of **how these features work**. This is necessary for in-syllabus topics like algorithms and time complexity, but also required in the real world if you are trying to optimise the performance of your code. How would you know how the code can be improved or be more selective with the features you use if you don't know how they work?\n",
    "\n",
    "We will continue to have more exercises where you implement features that already exist in Python. These exercises fulfill the same intention: to have you understand the computational structures that are used to implement these features."
   ]
  },
  {
   "cell_type": "markdown",
   "metadata": {},
   "source": [
    "## When do I use `while` or `for`? Which is better?\n",
    "\n",
    "A `while` loop evaluates a conditional expression to determine whether to carry out another iteration. A `for` loop iterates through a sequence of values, carrying out one iteration for each item.\n",
    "\n",
    "In general, if you need to repeat code execution a fixed number of times, use a `for` loop. If you need to use the index within the code, use indexed iteration (`for i in range(...):`), otherwise use direct iteration (`for item in ...`). If you're not sure how many iterations will be needed, use a conditional loop (`while ...:`).\n",
    "\n",
    "## A note on expressive power\n",
    "\n",
    "Notice also that direct iteration can be implemented using indexed iteration, and indexed iteration can be implemented with a conditional loop, but not the other way round.\n",
    "\n",
    "This may sound like an invitation to use `while` loops for everything; why would we ever need to use a `for` loop, if `while` loops can implement them?\n",
    "\n",
    "The simple reason is that `while` loops have **great expressive power**; we can express a wide range of intentions with them, *including infinite loops* (e.g. when we are running a game loop that takes user input and carries out the effect of the user's command continuously). So it is very easy to make mistakes with a `while` loop, e.g. ending up in an infinite loop that we did not intend.\n",
    "\n",
    "`for` loops have **limited expressive power**; the range of intentions a `for` loop can express is more limited, e.g. it is practically impossible to write an infinite loop using `for`. This makes them safer to use, and *more clearly expresses our intent*: if you see an indexed `for` loop, you can be sure the author intends to iterate through a sequence of indexes, not end up in an infinite loop. Likewise, if you see a direct `for` loop, you can be sure the author intends to iterate through a sequence of items, without getting confused by their use of indexes.\n",
    "\n",
    "A further implication of this is that, if code is written by a competent author, we can be sure that when they are using a `while` loop, it is because they need that level of expressive power; what they are doing is not merely fixed iteration, but something that requires conditional checking.\n",
    "\n",
    "As far as possible, we aim to use programming features at the right level of expressive power. This reduces the chance of making mistakes, and communicates our intent more clearly."
   ]
  },
  {
   "cell_type": "markdown",
   "metadata": {},
   "source": [
    "## Errors in Python: `IndexError`\n",
    "\n",
    "When you try to slice a string using an invalid index, Python will halt and raise an `IndexError`. This often happens if you accidentally use a `str` instead of an `int`, or if you use the wrong variable. Another way to get `IndexError` is when your index is equal to or larger than the length of the string.\n",
    "\n",
    "In the code cell below, try to raise an `IndexError`."
   ]
  },
  {
   "cell_type": "code",
   "execution_count": null,
   "metadata": {},
   "outputs": [],
   "source": [
    "text = \"apple\"\n",
    "# Type your code below this line to raise an IndexError\n",
    "\n"
   ]
  },
  {
   "cell_type": "markdown",
   "metadata": {},
   "source": [
    "# Summary\n",
    "\n",
    "Research shows that **active recall**, the mental effort of attempting to remember, helps strengthen neuron connections. For each of the questions below, try to recall what you learnt from this lesson before you click to reveal.\n",
    "\n",
    "<ol>\n",
    "\n",
    "<li><details>\n",
    "    <summary>What is the syntax for indexing? (click to reveal)</summary>\n",
    "    <code>item[index]</code>\n",
    "</details></li>\n",
    "    \n",
    "<li><details>\n",
    "    <summary>What is the syntax for slicing? (click to reveal)</summary>\n",
    "    <code>item[start:end]</code>\n",
    "</details></li>\n",
    "    \n",
    "<li><details>\n",
    "    <summary>How does a conditional loop work? (click to reveal)</summary>\n",
    "    <code>while &lt;condition&gt;:\n",
    "        &lt;statements ...&gt;</code>\n",
    "    <p>If the condition is <code>True</code>, the statements are executed. The condition is then evaluated again, and statements executed again if <code>True</code>, and so on.</p>\n",
    "</details></li>\n",
    "    \n",
    "<li><details>\n",
    "    <summary>How does an indexed loop work? (click to reveal)</summary>\n",
    "    <code>for i in range(len(items)):\n",
    "        &lt;statements ...&gt;</code>\n",
    "    <p>The statements are executed for each <code>i</code>, which is updated with the integers <code>0</code> to <code>len(items) - 1</code> representing the indexes of the list <code>items</code>.</p>\n",
    "</details></li>\n",
    "\n",
    "<li><details>\n",
    "    <summary>How does a direct-iteration loop work? (click to reveal)</summary>\n",
    "    <code>for item in items:\n",
    "        &lt;statements ...&gt;</code>\n",
    "    <p>The statements are executed for each <code>item</code>, which is updated with each item from <code>items</code> in each iteration.</p>\n",
    "</details></li>\n",
    "\n",
    "</ol>"
   ]
  }
 ],
 "metadata": {
  "kernelspec": {
   "display_name": "Python 3 (ipykernel)",
   "language": "python",
   "name": "python3"
  },
  "language_info": {
   "codemirror_mode": {
    "name": "ipython",
    "version": 3
   },
   "file_extension": ".py",
   "mimetype": "text/x-python",
   "name": "python",
   "nbconvert_exporter": "python",
   "pygments_lexer": "ipython3",
   "version": "3.7.7"
  }
 },
 "nbformat": 4,
 "nbformat_minor": 2
}
