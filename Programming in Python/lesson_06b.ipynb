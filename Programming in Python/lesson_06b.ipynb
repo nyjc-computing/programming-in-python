{
 "cells": [
  {
   "cell_type": "markdown",
   "metadata": {},
   "source": [
    "## 1-minute introduction to Jupyter ##\n",
    "\n",
    "A Jupyter notebook consists of cells. Each cell contains either text or code.\n",
    "\n",
    "A text cell will not have any text to the left of the cell. A code cell has `In [ ]:` to the left of the cell.\n",
    "\n",
    "If the cell contains code, you can edit it. Press <kbd>Enter</kbd> to edit the selected cell. While editing the code, press <kbd>Enter</kbd> to create a new line, or <kbd>Shift</kbd>+<kbd>Enter</kbd> to run the code. If you are not editing the code, select a cell and press <kbd>Ctrl</kbd>+<kbd>Enter</kbd> to run the code."
   ]
  },
  {
   "cell_type": "markdown",
   "metadata": {},
   "source": [
    "# Lesson 6b: Data structures - dict\n",
    "\n",
    "A list is a sequence of items. The only way to refer to each item is with a numerical index.\n",
    "\n",
    "This is not always the most suitable way to group data. For instance, if we are working with student records, we know each student might have the following information to manage:\n",
    "\n",
    "- name: str\n",
    "- class: str\n",
    "- date_of_graduation: date\n",
    "- age: int\n",
    "- height: float\n",
    "- weight: float\n",
    "- is_sg_citizen: bool\n",
    "\n",
    "It would be annoying and error-prone to have to remember that index 0 is the name, index 1 is the class, ... We need a better way to label each piece of information and associate the label with the information.\n",
    "\n",
    "In Python, the data structure for doing so is called a dictionary, or `dict`."
   ]
  },
  {
   "cell_type": "markdown",
   "metadata": {},
   "source": [
    "## Python dicts\n",
    "\n",
    "In Python, a dict is a mapping of **keys** to **values**.\n",
    "\n",
    "**Key-value pairs** are represented using the syntax `key: value`. It is customary to leave a space after the colon (but no space before the colon).\n",
    "\n",
    "You can initialise a dict from a sequence of key-value pairs by enclosing them in `{`curly brackets`}` and separating them with commas (`,`)."
   ]
  },
  {
   "cell_type": "code",
   "execution_count": null,
   "metadata": {},
   "outputs": [],
   "source": [
    "# Method 1\n",
    "studentdata = {'Alice': '2001', 'Bobby': '2001', 'Charlie': '2002'}\n",
    "studentdata"
   ]
  },
  {
   "cell_type": "markdown",
   "metadata": {},
   "source": [
    "### Using a dict\n",
    "\n",
    "We can perform the following operations on dicts. The below examples illustrate the use of a dict to map student names to their classes.\n",
    "\n",
    "#### Create a dict\n",
    "\n",
    "```python\n",
    "studentdata = {}\n",
    "```\n",
    "\n",
    "This creates an empty dict.\n",
    "\n",
    "```python\n",
    "studentdata = {'Alice': '2001', 'Bobby': '2001', 'Charlie': '2002'}\n",
    "```\n",
    "\n",
    "This creates a pre-populated dict.\n",
    "\n",
    "#### Set/update a key-value pair\n",
    "\n",
    "```python\n",
    "studentdata['Alice'] = '2003'\n",
    "```\n",
    "\n",
    "If the key `'Alice'` does not exist in the dict, it is created and associated with `'2003'`. If the key already exists, the previous value is discarded and the key is now associated with `'2003'`.\n",
    "\n",
    "#### Retrieve the value of a key\n",
    "\n",
    "```python\n",
    "studentdata['Alice']\n",
    "```\n",
    "\n",
    "The expression, when evaluated, is replaced with the value associated with `'Alice'`. If the key does not exist, a `KeyError` is raised.\n",
    "\n",
    "```python\n",
    "studentdata.get('Alice')\n",
    "```\n",
    "\n",
    "The `dict.get()` method call, when evaluated, is replaced with the value associated with `'Alice'`. If the key does not exist, `None` is returned instead.\n",
    "\n",
    "```python\n",
    "studentdata.get('Alice', 'no class assigned')\n",
    "```\n",
    "\n",
    "The `dict.get()` method takes in an optional second argument as a fallback value. If the key exists, this method call returns the value associated with the key. If the key does not exist, the fallback value is returned instead.\n",
    "\n",
    "#### Delete a key\n",
    "\n",
    "```python\n",
    "del studentdata['Alice']\n",
    "```\n",
    "\n",
    "Remove the key `'Alice'` from the dict."
   ]
  },
  {
   "cell_type": "markdown",
   "metadata": {},
   "source": [
    "### Dict requirements\n",
    "\n",
    "Dict keys must be **immutable**. `int`s, `float`s, `str`s, `bool`s, and even `tuple`s can be used as keys, although `int` and `str` are most commonly used. Keys must also be unique; duplicate keys are not possible in a dict.\n",
    "\n",
    "Dict values can be any data type."
   ]
  },
  {
   "cell_type": "markdown",
   "metadata": {},
   "source": [
    "### Best practices: key-value pairs on individual lines\n",
    "\n",
    "For longer lists of `key: value` pairs, it is good programming practice to write each `key: value` pair on a new line, after the comma:\n",
    "\n",
    "    alphabet_mapping = {\n",
    "        'a': 1,\n",
    "        'b': 2,\n",
    "        'c': 3,\n",
    "        'd': 4,\n",
    "        'e': 5,\n",
    "        'f': 6,\n",
    "        'g': 7,\n",
    "        ...\n",
    "        'z': 26,\n",
    "    }\n",
    "                        \n",
    "### Best practices: Generating `dict`s with procedures\n",
    "\n",
    "Better yet, if there is a pattern to the mapping, it should be generated with program code instead:"
   ]
  },
  {
   "cell_type": "code",
   "execution_count": 1,
   "metadata": {},
   "outputs": [
    {
     "name": "stdout",
     "output_type": "stream",
     "text": [
      "{'a': 1, 'b': 2, 'c': 3, 'd': 4, 'e': 5, 'f': 6, 'g': 7, 'h': 8, 'i': 9, 'j': 10, 'k': 11, 'l': 12, 'm': 13, 'n': 14, 'o': 15, 'p': 16, 'q': 17, 'r': 18, 's': 19, 't': 20, 'u': 21, 'v': 22, 'w': 23, 'x': 24, 'y': 25, 'z': 26}\n"
     ]
    }
   ],
   "source": [
    "# Generate a mapping of alphabet letters to values: a -> 1, b -> 2, ...\n",
    "\n",
    "letter_values = {}\n",
    "value = 1\n",
    "for letter in 'abcdefghijklmnopqrstuvwxyz':\n",
    "    letter_values[letter] = value\n",
    "    value += 1\n",
    "    \n",
    "print(letter_values)"
   ]
  },
  {
   "cell_type": "markdown",
   "metadata": {},
   "source": [
    "## Dict iteration\n",
    "\n",
    "Iterating through a dict in a `for` loop yields the keys in insertion order:"
   ]
  },
  {
   "cell_type": "code",
   "execution_count": null,
   "metadata": {},
   "outputs": [],
   "source": [
    "for key in letter_values:\n",
    "    print(\"Key:\", key, \"Value:\", letter_values[key])"
   ]
  },
  {
   "cell_type": "code",
   "execution_count": null,
   "metadata": {},
   "outputs": [],
   "source": [
    "# Alternatively:\n",
    "for key in letter_values.keys():\n",
    "    print(\"Key:\", key, \"Value:\", letter_values[key])"
   ]
  },
  {
   "cell_type": "markdown",
   "metadata": {},
   "source": [
    "Another way to iterate through only the values:"
   ]
  },
  {
   "cell_type": "code",
   "execution_count": null,
   "metadata": {},
   "outputs": [],
   "source": [
    "for value in letter_values.values():\n",
    "    print(\"Value:\", value)"
   ]
  },
  {
   "cell_type": "markdown",
   "metadata": {},
   "source": [
    "To iterate through key-value pairs:"
   ]
  },
  {
   "cell_type": "code",
   "execution_count": null,
   "metadata": {},
   "outputs": [],
   "source": [
    "for key, value in letter_values.items():\n",
    "    print(\"Key:\", key, \"Value:\", value)"
   ]
  },
  {
   "cell_type": "markdown",
   "metadata": {},
   "source": [
    "A common mistake is to iterate through dict.items() with only a single variable:"
   ]
  },
  {
   "cell_type": "code",
   "execution_count": null,
   "metadata": {},
   "outputs": [],
   "source": [
    "for item in letter_values.items():\n",
    "    print(item)"
   ]
  },
  {
   "cell_type": "markdown",
   "metadata": {},
   "source": [
    "Doing so will yield a tuple containing `(key, value)` instead. Writing two variables in the loop causes Python to **unpack** the tuple such that the first variable is the key and the second variable is the value."
   ]
  },
  {
   "cell_type": "markdown",
   "metadata": {},
   "source": [
    "## Exploring the use of dicts\n",
    "\n",
    "1. Use the `dir()` function to find out what methods `dict` has.\n",
    "\n",
    "See https://docs.python.org/3.7/tutorial/datastructures.html#dictionaries for more details on what each method does.\n",
    "\n",
    "The most commonly used methods are the ones demonstrated above, so use of the other methods is for your enrichment only."
   ]
  },
  {
   "cell_type": "code",
   "execution_count": 3,
   "metadata": {},
   "outputs": [
    {
     "data": {
      "text/plain": [
       "['__class__',\n",
       " '__contains__',\n",
       " '__delattr__',\n",
       " '__delitem__',\n",
       " '__dir__',\n",
       " '__doc__',\n",
       " '__eq__',\n",
       " '__format__',\n",
       " '__ge__',\n",
       " '__getattribute__',\n",
       " '__getitem__',\n",
       " '__gt__',\n",
       " '__hash__',\n",
       " '__init__',\n",
       " '__init_subclass__',\n",
       " '__iter__',\n",
       " '__le__',\n",
       " '__len__',\n",
       " '__lt__',\n",
       " '__ne__',\n",
       " '__new__',\n",
       " '__reduce__',\n",
       " '__reduce_ex__',\n",
       " '__repr__',\n",
       " '__setattr__',\n",
       " '__setitem__',\n",
       " '__sizeof__',\n",
       " '__str__',\n",
       " '__subclasshook__',\n",
       " 'clear',\n",
       " 'copy',\n",
       " 'fromkeys',\n",
       " 'get',\n",
       " 'items',\n",
       " 'keys',\n",
       " 'pop',\n",
       " 'popitem',\n",
       " 'setdefault',\n",
       " 'update',\n",
       " 'values']"
      ]
     },
     "execution_count": 3,
     "metadata": {},
     "output_type": "execute_result"
    }
   ],
   "source": [
    "dir(dict)"
   ]
  },
  {
   "cell_type": "markdown",
   "metadata": {},
   "source": [
    "## Dict operators\n",
    "\n",
    "### Comparing dicts\n",
    "\n",
    "Dicts can be compared:\n",
    "\n",
    "```python\n",
    ">>> print({'a': 1, 'b': 2} == {'a': 2, 'b': 1})\n",
    "False\n",
    "```\n",
    "\n",
    "Dicts are equal if they have the same key-value pairs.\n",
    "\n",
    "### Dict membership\n",
    "\n",
    "Membership checks can be performed on dicts:\n",
    "\n",
    "```python\n",
    ">>> print('a' in letter_values)\n",
    "True\n",
    "```\n",
    "\n",
    "Membership checks are only performed on keys. To check if a value is in the dict:\n",
    "\n",
    "```python\n",
    ">>> print(26 in letter_values.values())\n",
    "True\n",
    "```"
   ]
  },
  {
   "cell_type": "code",
   "execution_count": 10,
   "metadata": {},
   "outputs": [
    {
     "name": "stdout",
     "output_type": "stream",
     "text": [
      "True\n"
     ]
    }
   ],
   "source": [
    "# Test the above code in this code cell\n",
    "\n"
   ]
  },
  {
   "cell_type": "markdown",
   "metadata": {},
   "source": [
    "Try the following lines of code one by one in the cell below:\n",
    "\n",
    "1. `numbers = [1, 2, 3, 4, 5]`  \n",
    "   (_A list of numbers. We generally name lists by the kind of data they contain, and in plural._)\n",
    "3. `fruits = ['apple', 'blueberry', 'carrot',]`  \n",
    "    (_A list can contain strings too. And it will ignore any trailing commas._)\n",
    "2. `items = [1, '2', 3.0, '4.0', 5]`  \n",
    "   (_In fact, a list can consist of a mixture of integers, floats, strings, and other objects._)\n",
    "4. `data = []`  \n",
    "   (_This is how you initialise an empty list._)\n",
    "5. `data = list()`  \n",
    "   (_Another way to initialise an empty list._)\n",
    "\n",
    "Remember that an assignment statement (using the assignment (`=`) operator) will not produce any output. You will have to invoke the variable again on a separate line."
   ]
  },
  {
   "cell_type": "code",
   "execution_count": null,
   "metadata": {},
   "outputs": [],
   "source": [
    "# Write your code here\n",
    "\n"
   ]
  },
  {
   "cell_type": "markdown",
   "metadata": {},
   "source": [
    "### Exercise 1: Retrieve key from value\n",
    "\n",
    "Write a Python function, `get_key(dict_, value)` that returns the first key associated with the given value.\n",
    "\n",
    "If the value is not found, `None` should be returned.\n",
    "\n",
    "**Example**\n",
    "\n",
    "- `get_key({'a': 1, 'b': 2}, 2)` should return `'b'`\n",
    "- `get_key({'a': 1, 'b': 2}, 4)` should return `None`\n",
    "\n",
    "Also write a docstring for this function—you will need the practice! When using variables, give them appropriate names for readability: clear code reflects clear thinking.\n",
    "\n",
    "**Testing:** Call your function with the above two examples to verify that they work correctly. The output should be clearly shown below the cell.\n",
    "\n",
    "<details>\n",
    "    <summary><b>Hint</b> (click to open)</summary>\n",
    "    <p>Linear search: Iterate over the key-value pairs in the dict, checking the value for a match. Return the key if you find a match. If the iteration completes without finding a match, return `None`.</p>\n",
    "</details>"
   ]
  },
  {
   "cell_type": "code",
   "execution_count": null,
   "metadata": {},
   "outputs": [],
   "source": [
    "def get_key(dict_: dict, value):\n",
    "    \"\"\"Write an appropriate docstring\"\"\"\n",
    "    # Write your code here\n",
    "    \n"
   ]
  },
  {
   "cell_type": "markdown",
   "metadata": {},
   "source": [
    "### Exercise 2: Filter a dict\n",
    "\n",
    "Write a Python function, `filter(dict_, keys)` that:\n",
    "- takes in a dict\n",
    "- takes in a list of keys\n",
    "- returns a new dict containing key-value pairs from `dict_` that are in `keys`.\n",
    "\n",
    "Do not mutate the original dict.\n",
    "\n",
    "If any keys in the second argument are not found in the first argument, ignore them.\n",
    "\n",
    "**Example**\n",
    "\n",
    "- `filter({'a': 1, 'b': 2, 'c': 3}, ['a', 'b'])` should return `{'a': 1, 'b': 2}`\n",
    "- `filter({'a': 1, 'b': 2, 'c': 3}, ['d'])` should return `{}`\n",
    "\n",
    "Also write a docstring for this function—you will need the practice! When using variables, give them appropriate names for readability: clear code reflects clear thinking.\n",
    "\n",
    "**Testing:** Call your function with the above two examples to verify that they work correctly. The output should be clearly shown below the cell.\n",
    "\n",
    "<details>\n",
    "    <summary><b>Hint</b> (click to open)</summary>\n",
    "    <p>Create a new dict to be returned. Iterate over the keys given, and add the key-value pair to the new dict if the key is found in the first argument.</p>\n",
    "</details>"
   ]
  },
  {
   "cell_type": "code",
   "execution_count": null,
   "metadata": {},
   "outputs": [],
   "source": [
    "# This time, you practise writing the function definition\n",
    "\n"
   ]
  },
  {
   "cell_type": "markdown",
   "metadata": {},
   "source": [
    "## `dict` exceptions: `KeyError`\n",
    "\n",
    "Trying to access a dictionary key that doesn't exist will raise a `KeyError`:"
   ]
  },
  {
   "cell_type": "code",
   "execution_count": null,
   "metadata": {},
   "outputs": [],
   "source": [
    "alpha_dict = {'a': 1, 'b': 2, 'c': 3}\n",
    "alpha_dict['d'] # raises a KeyError"
   ]
  },
  {
   "cell_type": "markdown",
   "metadata": {},
   "source": [
    "To avoid encountering a `KeyError`, check that the key exists before trying to access it, or use the `dict.get()` method to have a fallback value returned instead:\n",
    "\n",
    "```python\n",
    "if 'd' in alpha_dict.keys():\n",
    "    d = alpha_dict[d]\n",
    "else:\n",
    "    d = None\n",
    "```\n",
    "\n",
    "Alternatively,\n",
    "\n",
    "```python\n",
    "d = alpha_dict.get(d, None)\n",
    "```"
   ]
  },
  {
   "cell_type": "markdown",
   "metadata": {},
   "source": [
    "# Summary\n",
    "\n",
    "Research shows that **active recall**, the mental effort of attempting to remember, helps strengthen neuron connections. For each of the questions below, try to recall what you learnt from this lesson before you click to reveal.\n",
    "\n",
    "<ol>\n",
    "\n",
    "<li><details>\n",
    "    <summary>How do we set/update a key-value pair? (click to reveal)</summary>\n",
    "    <code>dictionary[key] = value</code>\n",
    "</details></li>\n",
    "    \n",
    "<li><details>\n",
    "    <summary>How do we remove a key-value pair? (click to reveal)</summary>\n",
    "    <code>del dictionary[key]</code>\n",
    "</details></li>\n",
    "    \n",
    "<li><details>\n",
    "    <summary>How do we iterate through a dict? (click to reveal)</summary>\n",
    "    <ul>\n",
    "        <li>Iterating through keys: <code>for key in dictionary</code> or <code>for key in dictionary.keys()</code></li>\n",
    "        <li>Iterating through values: <code>for value in dictionary.values()</code></li>\n",
    "        <li>Iterating through key-value pairs: <code>for key, value in dictionary.items()</code></li>\n",
    "    </ul>\n",
    "</details></li>\n",
    "    \n",
    "</ol>"
   ]
  }
 ],
 "metadata": {
  "kernelspec": {
   "display_name": "Python 3 (ipykernel)",
   "language": "python",
   "name": "python3"
  },
  "language_info": {
   "codemirror_mode": {
    "name": "ipython",
    "version": 3
   },
   "file_extension": ".py",
   "mimetype": "text/x-python",
   "name": "python",
   "nbconvert_exporter": "python",
   "pygments_lexer": "ipython3",
   "version": "3.7.7"
  }
 },
 "nbformat": 4,
 "nbformat_minor": 2
}
